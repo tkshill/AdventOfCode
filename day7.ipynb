{
  "cells": [
    {
      "cell_type": "code",
      "execution_count": null,
      "metadata": {
        "dotnet_interactive": {
          "language": "fsharp"
        }
      },
      "outputs": [
        {
          "data": {
            "text/html": [
              "<div><div></div><div></div><div><strong>Installed Packages</strong><ul><li><span>FParsec, 1.1.1</span></li></ul></div></div>"
            ]
          },
          "metadata": {},
          "output_type": "display_data"
        }
      ],
      "source": [
        "#r \"nuget: FParsec, 1.1.1\""
      ]
    },
    {
      "cell_type": "code",
      "execution_count": null,
      "metadata": {
        "dotnet_interactive": {
          "language": "fsharp"
        }
      },
      "outputs": [
        {
          "data": {
            "text/html": [
              "<div class=\"dni-plaintext\">99788435</div>"
            ]
          },
          "metadata": {},
          "output_type": "display_data"
        }
      ],
      "source": [
        "open FParsec\n",
        "open System\n",
        "\n",
        "let pNums = sepBy (pint32 |>> int) (pstring \",\")\n",
        "\n",
        "let data =\n",
        "    match runParserOnFile pNums () \"day7.txt\" Encoding.ASCII with\n",
        "    | Success (result, _, _) -> result\n",
        "    | _ -> failwith \"oops!\"\n",
        "\n",
        "let solver calculator =\n",
        "    [ Seq.min data..Seq.max data ]\n",
        "    |> Seq.distinct\n",
        "    |> Seq.fold (fun min n -> Seq.min [min; calculator n ]) Int32.MaxValue \n",
        "\n",
        "let day7part1solution = \n",
        "    solver (fun n -> Seq.sumBy (abs << ((-) n)) data)\n",
        "    \n",
        "let day7part2solution = \n",
        "    let sumTo n = n * (n + 1) / 2\n",
        "    solver (fun n -> Seq.sumBy (sumTo << abs << ((-) n)) data)\n",
        "\n",
        "day7part1solution, day7part2solution"
      ]
    }
  ],
  "metadata": {
    "kernelspec": {
      "display_name": ".NET (C#)",
      "language": "C#",
      "name": ".net-csharp"
    },
    "language_info": {
      "file_extension": ".cs",
      "mimetype": "text/x-csharp",
      "name": "C#",
      "pygments_lexer": "csharp",
      "version": "8.0"
    }
  },
  "nbformat": 4,
  "nbformat_minor": 4
}
