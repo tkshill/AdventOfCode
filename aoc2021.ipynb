{
  "cells": [
    {
      "cell_type": "code",
      "execution_count": 1,
      "metadata": {
        "dotnet_interactive": {
          "language": "fsharp"
        }
      },
      "outputs": [],
      "source": [
        "// Advent of Code Day 1\n",
        "\n",
        "open System.IO\n",
        "open System\n",
        "\n",
        "// input\n",
        "\n",
        "let data = File.ReadAllLines(@\"day1part1.txt\")\n",
        "\n",
        "// day one part one\n",
        "\n",
        "let folder (numOfincreases, lastVal) nextVal =\n",
        "    if nextVal > lastVal then (numOfincreases + 1, nextVal) else (numOfincreases, nextVal)\n",
        "\n",
        "let day1part1solution =\n",
        "    data\n",
        "    |> Array.map int\n",
        "    |> Array.fold folder (0, System.Int32.MaxValue)\n",
        "    |> fun (answer, _) -> answer\n",
        "\n",
        "\n",
        "// day one part two\n",
        "\n",
        "let folder2 (numOfincreases, (last3: int list)) (index, nextVal) =\n",
        "    if index < 3 then\n",
        "        (numOfincreases, List.append last3 [nextVal])\n",
        "    else\n",
        "        let next3 = List.append (List.tail last3) [nextVal]\n",
        "        if List.sum next3 > List.sum last3 then (numOfincreases + 1, next3) else (numOfincreases, next3)\n",
        "\n",
        "let day1part2solution =\n",
        "    data\n",
        "    |> Array.map int\n",
        "    |> Array.indexed\n",
        "    |> Array.fold folder2 (0, [])\n",
        "    |> fun (answer, _) -> answer\n",
        "\n",
        "// yet another example of why reduce is the greatest function of all time\n",
        "\n",
        "day1part1solution, day1part2solution"
      ]
    }
  ],
  "metadata": {
    "kernelspec": {
      "display_name": ".NET (C#)",
      "language": "C#",
      "name": ".net-csharp"
    },
    "language_info": {
      "file_extension": ".cs",
      "mimetype": "text/x-csharp",
      "name": "C#",
      "pygments_lexer": "csharp",
      "version": "8.0"
    }
  },
  "nbformat": 4,
  "nbformat_minor": 4
}
