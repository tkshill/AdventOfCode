{
  "cells": [
    {
      "cell_type": "code",
      "execution_count": null,
      "metadata": {
        "dotnet_interactive": {
          "language": "fsharp"
        }
      },
      "outputs": [
        {
          "data": {
            "text/html": [
              "<table><thead><tr><th>Item1</th><th>Item2</th></tr></thead><tbody><tr><td><div class=\"dni-plaintext\">1462</div></td><td><div class=\"dni-plaintext\">1497</div></td></tr></tbody></table>"
            ]
          },
          "metadata": {},
          "output_type": "display_data"
        }
      ],
      "source": [
        "// Advent of Code Day 1\n",
        "\n",
        "open System.IO\n",
        "\n",
        "// input\n",
        "\n",
        "let data = \n",
        "    File.ReadAllLines(@\"day1part1.txt\") \n",
        "    |> Array.map int\n",
        "\n",
        "// day one part one\n",
        "\n",
        "let folder (increases, last) next =\n",
        "    if next > last then increases + 1, next else increases, next\n",
        "\n",
        "let day1part1solution =\n",
        "    fst <| Array.fold folder (0, System.Int32.MaxValue) data\n",
        "\n",
        "\n",
        "// day one part two\n",
        "\n",
        "let folder2 (increases, last3) (index, next) =\n",
        "    if index < 3 then\n",
        "        increases, last3 @ [next]\n",
        "    else\n",
        "        let next3 = List.tail last3 @ [next]\n",
        "        if List.sum next3 > List.sum last3 then increases + 1, next3 else increases, next3\n",
        "\n",
        "let day1part2solution =\n",
        "    fst <| Array.fold folder2 (0, []) (Array.indexed data)\n",
        "\n",
        "// yet another example of why reduce is the greatest function of all time\n",
        "\n",
        "day1part1solution, day1part2solution"
      ]
    }
  ],
  "metadata": {
    "kernelspec": {
      "display_name": ".NET (C#)",
      "language": "C#",
      "name": ".net-csharp"
    },
    "language_info": {
      "file_extension": ".cs",
      "mimetype": "text/x-csharp",
      "name": "C#",
      "pygments_lexer": "csharp",
      "version": "8.0"
    }
  },
  "nbformat": 4,
  "nbformat_minor": 4
}
