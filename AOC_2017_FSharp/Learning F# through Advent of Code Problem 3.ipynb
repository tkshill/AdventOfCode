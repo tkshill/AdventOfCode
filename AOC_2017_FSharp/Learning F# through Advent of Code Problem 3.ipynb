{
 "cells": [
  {
   "cell_type": "markdown",
   "metadata": {},
   "source": [
    "Learning F# "
   ]
  },
  {
   "cell_type": "code",
   "execution_count": 55,
   "metadata": {
    "collapsed": true
   },
   "outputs": [],
   "source": [
    "let generateSquare (min:int) (max:int): int seq = \n",
    "    Seq.append {(max-1)..(-1)..min} {(min+1)..max}\n",
    "    |> (fun x -> seq { for i in 1..4 do yield! x } )\n",
    "\n",
    "let rec squareBuilder ((goal, acc, min, max):int*int*int*int) : int seq =\n",
    "    match (goal <= acc) with \n",
    "    | true -> Seq.empty\n",
    "    | _ -> \n",
    "        let newSquare = generateSquare min max\n",
    "        squareBuilder (goal, (acc + Seq.length newSquare), (min+1), (max+2))\n",
    "        |> Seq.append newSquare\n",
    "    \n",
    "let adventOfCode3Part1 (goal:int) : int = \n",
    "   \n",
    "    squareBuilder (goal, 0, 1, 2)\n",
    "    |> Seq.toList\n",
    "    |> (fun distanceList -> distanceList.[goal-2])\n",
    "    \n"
   ]
  },
  {
   "cell_type": "code",
   "execution_count": 56,
   "metadata": {},
   "outputs": [
    {
     "data": {
      "text/plain": [
       "475"
      ]
     },
     "execution_count": 56,
     "metadata": {},
     "output_type": "execute_result"
    }
   ],
   "source": [
    "adventOfCode3Part1 277678"
   ]
  },
  {
   "cell_type": "code",
   "execution_count": 57,
   "metadata": {},
   "outputs": [
    {
     "data": {
      "text/plain": [
       "[1; 2; 1; 2; 1; 2; 1; 2; 3; 2; 3; 4; 3; 2; 3; 4; 3; 2; 3; 4; 3; 2; 3; 4; 5; 4; 3;\n",
       " 4; 5; 6; 5; 4; 3; 4; 5; 6; 5; 4; 3; 4; 5; 6; 5; 4; 3; 4; 5; 6; 7; 6; 5; 4; 5; 6;\n",
       " 7; 8; 7; 6; 5; 4; 5; 6; 7; 8; 7; 6; 5; 4; 5; 6; 7; 8; 7; 6; 5; 4; 5; 6; 7; 8; 9;\n",
       " 8; 7; 6; 5; 6; 7; 8; 9; 10; 9; 8; 7; 6; 5; 6; 7; 8; 9; 10; ...]"
      ]
     },
     "execution_count": 57,
     "metadata": {},
     "output_type": "execute_result"
    }
   ],
   "source": [
    "squareBuilder (100, 0, 1, 2) |> Seq.toList"
   ]
  },
  {
   "cell_type": "code",
   "execution_count": 58,
   "metadata": {
    "collapsed": true
   },
   "outputs": [],
   "source": [
    "type Movement = Up | Left | Down | Right"
   ]
  },
  {
   "cell_type": "code",
   "execution_count": 59,
   "metadata": {
    "collapsed": true
   },
   "outputs": [],
   "source": [
    "let advanceMovement (movement:Movement) : Movement =\n",
    "    match movement with\n",
    "    | Up -> Left\n",
    "    | Left -> Down\n",
    "    | Down -> Right\n",
    "    | Right -> Up\n",
    "    "
   ]
  },
  {
   "cell_type": "code",
   "execution_count": 60,
   "metadata": {
    "collapsed": true
   },
   "outputs": [],
   "source": [
    "type Point = int*int"
   ]
  },
  {
   "cell_type": "code",
   "execution_count": 80,
   "metadata": {
    "collapsed": true
   },
   "outputs": [],
   "source": [
    "type Item = Point*int"
   ]
  },
  {
   "cell_type": "code",
   "execution_count": 62,
   "metadata": {
    "collapsed": true
   },
   "outputs": [],
   "source": [
    "let getEnd (data:seq<'T>) : 'T = \n",
    "    Seq.rev data\n",
    "    |> Seq.head   "
   ]
  },
  {
   "cell_type": "code",
   "execution_count": 81,
   "metadata": {},
   "outputs": [],
   "source": [
    "let getScore (data:Item) : int =\n",
    "    data |> (fun (_, num) -> num)\n",
    "\n",
    "let getCoords (data:Item) : Point = \n",
    "    data |> (fun (point, _) -> point)"
   ]
  },
  {
   "cell_type": "code",
   "execution_count": 64,
   "metadata": {
    "collapsed": true
   },
   "outputs": [],
   "source": [
    "let makeSurroundingPoints ((x, y):Point) : Point seq = \n",
    "    seq [(x+1, y); (x+1, y+1); (x, y+1); (x-1, y+1); (x-1, y); (x-1, y-1); (x, y-1); (x+1, y-1);]"
   ]
  },
  {
   "cell_type": "code",
   "execution_count": 83,
   "metadata": {},
   "outputs": [],
   "source": [
    "let findVal (point:Point) (item:Item) : bool =\n",
    "    point\n",
    "    |> makeSurroundingPoints\n",
    "    |> Seq.exists (fun x -> (getCoords item) = x)\n"
   ]
  },
  {
   "cell_type": "code",
   "execution_count": 84,
   "metadata": {},
   "outputs": [],
   "source": [
    "let getVal ((x, y):Point) (items:Item seq) : int = \n",
    "    items\n",
    "    |> Seq.filter (findVal (x, y))\n",
    "    |> Seq.map (fun (_, num) -> num)\n",
    "    |> Seq.sum"
   ]
  },
  {
   "cell_type": "code",
   "execution_count": 85,
   "metadata": {
    "collapsed": true
   },
   "outputs": [],
   "source": [
    "let updatePoint (movement:Movement) (point:Point) : Point =\n",
    "    match movement with\n",
    "    | Up -> point |> (fun (x, y) -> x, y+1)\n",
    "    | Left -> point |> (fun (x, y) -> x-1, y)\n",
    "    | Down -> point |> (fun (x, y) -> x, y-1)\n",
    "    | Right -> point |> (fun (x, y) -> x+1, y)"
   ]
  },
  {
   "cell_type": "code",
   "execution_count": 86,
   "metadata": {},
   "outputs": [],
   "source": [
    "let addNewItem (current:Item seq) (newMove:Movement) : Item = \n",
    "    let lastPoint = getEnd current\n",
    "    let lastCoords = getCoords lastPoint\n",
    "    let newCoords = updatePoint newMove lastCoords\n",
    "    let newVal = getVal newCoords current\n",
    "    (newCoords, newVal)\n",
    "    "
   ]
  },
  {
   "cell_type": "code",
   "execution_count": 91,
   "metadata": {},
   "outputs": [],
   "source": [
    "let getNewParams (direction:Movement) (repeat:int) (advancement:int) : (Movement*int*int) =\n",
    "    if repeat = advancement && (direction = Down || direction = Up) then\n",
    "        ((advanceMovement direction), repeat + 1, 1)\n",
    "    elif repeat = advancement && (direction = Right || direction = Left) then\n",
    "        ((advanceMovement direction), repeat, 1)\n",
    "    else\n",
    "        (direction, repeat, advancement + 1)\n",
    "        "
   ]
  },
  {
   "cell_type": "code",
   "execution_count": 92,
   "metadata": {},
   "outputs": [],
   "source": [
    "let rec adventOfCode3Part2 (limit:int)  (direction:Movement) (repeat:int) (advancement:int) (current:Item seq) : int =\n",
    "    if (getEnd >> getScore) current >= limit then\n",
    "        current\n",
    "        |> getEnd\n",
    "        |> getScore\n",
    "    else\n",
    "        let newItem = addNewItem current direction\n",
    "        let newList = newItem |> Seq.singleton |> Seq.append current\n",
    "        \n",
    "        getNewParams direction repeat advancement \n",
    "        |> (fun (newDir, newRep, newAdv) -> adventOfCode3Part2 limit newDir newRep newAdv newList)       \n",
    "        "
   ]
  },
  {
   "cell_type": "code",
   "execution_count": 95,
   "metadata": {},
   "outputs": [
    {
     "data": {
      "text/plain": [
       "279138"
      ]
     },
     "execution_count": 95,
     "metadata": {},
     "output_type": "execute_result"
    }
   ],
   "source": [
    "adventOfCode3Part2 277678 Right 1 1 (Seq.singleton ((0,0), 1))"
   ]
  }
 ],
 "metadata": {
  "kernelspec": {
   "display_name": "F#",
   "language": "fsharp",
   "name": "ifsharp"
  },
  "language": "fsharp",
  "language_info": {
   "codemirror_mode": "",
   "file_extension": ".fs",
   "mimetype": "text/x-fsharp",
   "name": "fsharp",
   "nbconvert_exporter": "",
   "pygments_lexer": "",
   "version": "4.3.1.0"
  }
 },
 "nbformat": 4,
 "nbformat_minor": 2
}
