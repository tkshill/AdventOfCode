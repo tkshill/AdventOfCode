{
 "cells": [
  {
   "cell_type": "markdown",
   "metadata": {},
   "source": [
    "Link to the original question can be found [here](http://adventofcode.com/2017/day/6)\n",
    "\n",
    "First let's retrieve our data.\n",
    "\n",
    "We'll define an input file called _inputFile.txt_ which is located in our current directry. Then we'll use the _System.IO_ library to access the file's contents using _File.ReadAllLines_. Since this is an IO operation we should wrap it in a function to work better with the rest of our functional code."
   ]
  },
  {
   "cell_type": "code",
   "execution_count": 1,
   "metadata": {},
   "outputs": [
    {
     "data": {
      "text/plain": [
       "seq [(0, 11); (1, 11); (2, 13); (3, 7); ...]"
      ]
     },
     "execution_count": 1,
     "metadata": {},
     "output_type": "execute_result"
    }
   ],
   "source": [
    "open System.IO\n",
    "open System\n",
    "\n",
    "\n",
    "type Item = int*int\n",
    "type Message = Item seq\n",
    "\n",
    "let inputFile = \"problem6.txt\"\n",
    "\n",
    "let parseFile (input: string) : Message = \n",
    "    File.ReadAllText(input)\n",
    "        |> fun fileString -> fileString.Split()\n",
    "        |> Array.toSeq\n",
    "        |> Seq.map System.Int32.Parse \n",
    "        |> Seq.mapi (fun i v -> i, v)\n",
    "        \n",
    "parseFile inputFile"
   ]
  },
  {
   "cell_type": "markdown",
   "metadata": {},
   "source": [
    "So here our _parseFile_ function accepts a string and converts it to a _Message_, which we've defined as a sequence of _Items,_ or int pairs. \n",
    "\n",
    "Making types like Item and Message helps us because they add type safety to our functions as well as make our type declarations neater and more readable. _Message_ looks a whole  lot better than _Seq<int*int>_ later on when reviewing. Although one can argue that the abstraction makes it harder to determine what's entering and leaving our functions. \n",
    "\n",
    "Now let's define a function that can accept a message and find the highest number in the message."
   ]
  },
  {
   "cell_type": "code",
   "execution_count": 2,
   "metadata": {},
   "outputs": [
    {
     "data": {
      "text/plain": [
       "(2, 20)"
      ]
     },
     "execution_count": 2,
     "metadata": {},
     "output_type": "execute_result"
    }
   ],
   "source": [
    "let findMax (fullMap: Message) : Item =\n",
    "    let folder ((key1, val1): Item) ((key2, val2): Item) : Item =\n",
    "        if val1 >= val2 then \n",
    "            key1, val1 \n",
    "        else \n",
    "            key2, val2\n",
    "    \n",
    "    Seq.fold folder (0, 0) fullMap\n",
    "    \n",
    "[(0, 13); (1, 6); (2, 20);] |> findMax"
   ]
  },
  {
   "cell_type": "markdown",
   "metadata": {},
   "source": [
    "Note that _folder_ in _findMax_ compares val1 to val2 so the left side of the list is given priority over the right in the case of the two values being the same size, as described in the original function. If values on the right are chosen over values on the left that _may_ influence our final answer. "
   ]
  },
  {
   "cell_type": "code",
   "execution_count": 3,
   "metadata": {},
   "outputs": [
    {
     "data": {
      "text/plain": [
       "true"
      ]
     },
     "execution_count": 3,
     "metadata": {},
     "output_type": "execute_result"
    }
   ],
   "source": [
    "let filterer ((key1, _): Item) ((key2, _): Item) : bool = \n",
    "        if key1 = key2 then true else false\n",
    "        \n",
    "filterer (2, 5) (2, 10)\n",
    "//filterer (2, 5) (3, 5)"
   ]
  },
  {
   "cell_type": "markdown",
   "metadata": {},
   "source": [
    "_filterer_ is just a helper function that checks if two Items have the same index"
   ]
  },
  {
   "cell_type": "code",
   "execution_count": 4,
   "metadata": {},
   "outputs": [
    {
     "data": {
      "text/plain": [
       "seq [(3, 3); (0, 0); (1, 1); (2, 2)]"
      ]
     },
     "execution_count": 4,
     "metadata": {},
     "output_type": "execute_result"
    }
   ],
   "source": [
    "let shift (offset: int) (items: Message) : Message = \n",
    "    let first = \n",
    "        items\n",
    "            |> Seq.filter (fun (key, _) -> key > offset)\n",
    "    \n",
    "    let second = \n",
    "        items\n",
    "            |> Seq.filter (fun (key, _) -> key <= offset)\n",
    "            \n",
    "    Seq.append first second\n",
    "    \n",
    "shift (2) (Seq.ofList [(0, 0); (1, 1); (2, 2); (3, 3); ])"
   ]
  },
  {
   "cell_type": "markdown",
   "metadata": {},
   "source": [
    "_shift_ rotates a sequences to make the element _after_ the index passed in the first element"
   ]
  },
  {
   "cell_type": "code",
   "execution_count": 5,
   "metadata": {},
   "outputs": [
    {
     "data": {
      "text/plain": [
       "seq [(2, 18); (0, 17); (1, 18)]"
      ]
     },
     "execution_count": 5,
     "metadata": {},
     "output_type": "execute_result"
    }
   ],
   "source": [
    "let rec pluser (countdown: int) (items: Message) : Message = \n",
    "    if countdown = 0 then\n",
    "        items\n",
    "    else\n",
    "        let new_head = items |> Seq.head |> fun (key, value) -> (key, value + 1)\n",
    "        let new_message = Seq.append (Seq.tail items) (Seq.singleton new_head)\n",
    "        pluser (countdown - 1) new_message\n",
    "        \n",
    "pluser 50 [(0, 0); (1, 1); (2, 2);]"
   ]
  },
  {
   "cell_type": "markdown",
   "metadata": {},
   "source": [
    "_pluser_ takes an integer and spreads it across each element till the integer runs out."
   ]
  },
  {
   "cell_type": "code",
   "execution_count": 6,
   "metadata": {},
   "outputs": [
    {
     "data": {
      "text/plain": [
       "seq [(0, 0); (1, 6); (2, 0)]"
      ]
     },
     "execution_count": 6,
     "metadata": {},
     "output_type": "execute_result"
    }
   ],
   "source": [
    "let setToZero (key: int) (message: Message) : Message =\n",
    "    let zeroed =\n",
    "        message\n",
    "            |> Seq.find (fun (x, y) -> x = key)\n",
    "            |> fun (x, y) -> (x, 0)\n",
    "            \n",
    "    let filtered =\n",
    "        message\n",
    "            |> Seq.filter (fun (x, y) -> not (x = key))\n",
    "            \n",
    "    Seq.append (Seq.singleton zeroed) filtered\n",
    "        |> Seq.sortBy (fun (x, y) -> x)\n",
    "        \n",
    "setToZero 0 [(0, 11); (1, 6); (2, 0);]"
   ]
  },
  {
   "cell_type": "markdown",
   "metadata": {},
   "source": [
    "_setToZero_ accepts an index and and message and sets the value at that index to zero"
   ]
  },
  {
   "cell_type": "code",
   "execution_count": 7,
   "metadata": {},
   "outputs": [
    {
     "data": {
      "text/plain": [
       "seq [(0, 6); (1, 3); (2, 8)]"
      ]
     },
     "execution_count": 7,
     "metadata": {},
     "output_type": "execute_result"
    }
   ],
   "source": [
    "let advance (input: Message) : Message =\n",
    "\n",
    "    let key, value = findMax input\n",
    "    let zeroed = setToZero key input\n",
    "    let shifted = shift key zeroed  \n",
    "    \n",
    "    shifted\n",
    "    |> pluser value\n",
    "    |> Seq.sortBy (fun (x, y) -> x)\n",
    "    \n",
    "[(0, 11); (1, 6); (2, 0);] |> advance |> advance |> advance |> advance |> advance"
   ]
  },
  {
   "cell_type": "markdown",
   "metadata": {},
   "source": [
    "Okay, so here we've defined an advance function that actually updates our sequence. Let's go over what's happening.\n",
    "\n",
    "First, we find the key and value of the largest item. We conveniently call them _key_ and _value._\n",
    "\n",
    "We set the largest item back to zero.\n",
    "\n",
    "We shift the list so the formerly highest item is last.\n",
    "\n",
    "Then we distribute the highest value using pluser.\n",
    "\n",
    "Finally we resort the list."
   ]
  },
  {
   "cell_type": "code",
   "execution_count": 8,
   "metadata": {},
   "outputs": [
    {
     "data": {
      "text/plain": [
       "true"
      ]
     },
     "execution_count": 8,
     "metadata": {},
     "output_type": "execute_result"
    }
   ],
   "source": [
    "let messageCheck (mess1: Message) (mess2: Message) : bool = \n",
    "        (Set.ofSeq mess1) = (Set.ofSeq mess2)\n",
    "            \n",
    "messageCheck ([(0, 11); (1, 6); (2, 0);] |> Seq.ofList) ([(0, 11); (1, 6); (2, 0);] |> Seq.ofList)"
   ]
  },
  {
   "cell_type": "markdown",
   "metadata": {},
   "source": [
    "Our last helper function is _messageCheck_ which checks two messages for equality by converting thing to sets and doing a comparison. This works because our messages contain immutable tuples. "
   ]
  },
  {
   "cell_type": "code",
   "execution_count": null,
   "metadata": {},
   "outputs": [],
   "source": [
    "let rec iterate (cache: Message seq) : int =\n",
    "    \n",
    "    let nextMessage = cache |> Seq.head |> advance\n",
    "    \n",
    "    match Seq.exists (messageCheck nextMessage) cache with\n",
    "    | true ->\n",
    "        Seq.length cache\n",
    "    | false -> \n",
    "        cache\n",
    "            |> Seq.append (Seq.singleton nextMessage)\n",
    "            |> iterate\n",
    "\n",
    "inputFile |> parseFile |> Seq.singleton |> iterate"
   ]
  },
  {
   "cell_type": "markdown",
   "metadata": {},
   "source": [
    "Finally we have our _iterate_ function. This is where we implement our pesky recursion. Our iterate function accepts a sequnce of messages we call cache. It takes the head, advances it, and then checks to see if the new message is already in the cache. If it is, it returns the length of the cache, else it adds the new message to the front and keeps going.\n",
    "\n",
    "Seq.exists is a built in sequence function that basically checks if any value in a sequence satisfies some given function."
   ]
  },
  {
   "cell_type": "code",
   "execution_count": 10,
   "metadata": {},
   "outputs": [
    {
     "name": "stderr",
     "output_type": "stream",
     "text": [
      "The value or constructor 'iterate' is not defined."
     ]
    }
   ],
   "source": [
    "let adventOfCode6Part1 (sourceString: string) : int =\n",
    "    sourceString\n",
    "        |> parseFile \n",
    "        |> Seq.singleton\n",
    "        |> iterate\n",
    "        \n",
    "adventOfCode6Part1 inputFile"
   ]
  },
  {
   "cell_type": "markdown",
   "metadata": {},
   "source": [
    "_adventOfCode6Part1_ is a neat little function wrapper than encapsulates everything we've done so far. Accepting a string, it opens and parses the fill, converts to a sequence of int pair sequences, and iterates till a result is found. \n",
    "\n",
    "I was hoping to avoid the use of explicit recursion again, but I dont think this answer is too bad."
   ]
  }
 ],
 "metadata": {
  "kernelspec": {
   "display_name": "F#",
   "language": "fsharp",
   "name": "ifsharp"
  },
  "language": "fsharp",
  "language_info": {
   "codemirror_mode": "",
   "file_extension": ".fs",
   "mimetype": "text/x-fsharp",
   "name": "fsharp",
   "nbconvert_exporter": "",
   "pygments_lexer": "",
   "version": "4.3.1.0"
  }
 },
 "nbformat": 4,
 "nbformat_minor": 2
}
