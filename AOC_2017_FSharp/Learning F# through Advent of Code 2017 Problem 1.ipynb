{
 "cells": [
  {
   "cell_type": "markdown",
   "metadata": {},
   "source": [
    "# Learning F# through Advent of Code 2017 Problem 1\n",
    "\n",
    "\n",
    "\n",
    "#### The purpose of this notebook is to learn and explore the [F# language](http://fsharp.org/) the following the [Advent of Code 2017](http://adventofcode.com/2017) series. This seems like the most fun way to adjust to the F# syntax and also do some delightful functional programming in the process!\n",
    "\n",
    "##### Date: December 7th, 2017\n",
    "\n",
    "##### Created by: Tyrone Kirk Shillingford\n"
   ]
  },
  {
   "cell_type": "markdown",
   "metadata": {},
   "source": [
    "## Attempting Part 1\n",
    "\n",
    "**First** let's familiarize outself with the question [here](http://adventofcode.com/2017/day/1):\n",
    "\n",
    "Take a moment to read it through... awesome! Now let's see if we can tease some data out of what it says!\n",
    "\n",
    "We have to review a **sequence of digits** (basically a list).\n",
    "We have to find the **sum** of all digits that match the **next** digit in the list.\n",
    "The list is **circular** so the digit after the last digit is the first digit.\n",
    "\n",
    "Hmmm...\n",
    "\n",
    "We need to compare a list value to the value ahead of it. I'm sure there are clever ways to do this, but the easiest way is to simply **make a list that's a duplicate of the first one but with the first element shifted to the back.** \n",
    "\n",
    "Then each element in the first list will match up with the element in the second that we want to compare it against.\n",
    "\n",
    "We can process the lists in parallel, checking their values and pumping the response into a third list, containing the result of the comparison. \n",
    "\n",
    "\\*Note: When I first attempted this question, I simply assumed that a list of numbers could be used as input. I later realized that the \"sequence\" referred spicifically to a string of digits. I've left the original answer up, but will add an addendum at the bottom with an update for moving from a string of characters into the proposed solution.\n"
   ]
  },
  {
   "cell_type": "code",
   "execution_count": 69,
   "metadata": {
    "collapsed": true
   },
   "outputs": [],
   "source": [
    "let adjustList ( nums : list<int>) : list<int> = \n",
    "    List.append nums.Tail [nums.Head]"
   ]
  },
  {
   "cell_type": "markdown",
   "metadata": {},
   "source": [
    "Great. Now we have the function *adjustList* that accepts a list of ints and returns a list of ints. Note that adjustList just takes the first element of the list using the *.Head* attribute and appends it to the rest of the list (found using the *.Tail* attribute)\n",
    "\n",
    "Now here's our plan. Since we want to just add up the numbers at the end, we can just use *List.map2* which will take the corresponding elements of the two lists, and apply them to a function, and put the results of that function in a list themselves. \n",
    "\n",
    "So now we need to make a function that can accept two integers, and return the first integer if they match, or zero if they dont (since adding zero wont change our final answer).\n"
   ]
  },
  {
   "cell_type": "code",
   "execution_count": 70,
   "metadata": {
    "collapsed": true
   },
   "outputs": [],
   "source": [
    "let compareInts (shifted : int ) ( orig : int ) : int = \n",
    "    if shifted = orig \n",
    "    then orig \n",
    "    else 0"
   ]
  },
  {
   "cell_type": "markdown",
   "metadata": {},
   "source": [
    "Awesomeness. The function compareInts will take two integers and either return one of them (if they match) or zero.\n",
    "\n",
    "Now to simply make a function that puts it all together!"
   ]
  },
  {
   "cell_type": "code",
   "execution_count": 71,
   "metadata": {
    "collapsed": true
   },
   "outputs": [],
   "source": [
    "let adventOfCode1 ( input : list<int> ) : int = \n",
    "    input \n",
    "    |> List.map2 compareInts (adjustList input) \n",
    "    |> List.sum"
   ]
  },
  {
   "cell_type": "markdown",
   "metadata": {},
   "source": [
    "That should do it. The function adventOfCode's type signature says it accepts a list of integers and returns a sinlge one, which is what we want. That list, called input is fed in our List.map2 function, which itself has three parameters; the compareInts function, the adjusted input, and the original input. The resulting list is then fed into the List.sum function, which will produce our intended result. \n",
    "\n",
    "Let's check it out!"
   ]
  },
  {
   "cell_type": "code",
   "execution_count": 72,
   "metadata": {},
   "outputs": [
    {
     "data": {
      "text/plain": [
       "12"
      ]
     },
     "execution_count": 72,
     "metadata": {},
     "output_type": "execute_result"
    }
   ],
   "source": [
    "let input = [ 1; 2; 4; 4; 5; 7; 7; 8; 1 ]\n",
    "\n",
    "adventOfCode1 input"
   ]
  },
  {
   "cell_type": "markdown",
   "metadata": {},
   "source": [
    "Hurrah! Sweet success. There are three matching pairs... the 4s, the 7s and the first and last 1s... 4 + 7 + 1 = 12\n",
    "\n",
    "But what happens if we get a string as input as opposed to a list? \n",
    "\n",
    "Let define a few extra functions to get this going. _Seq.toList_ should be able to handle getting our string to be a list of characters. So we just need to make a function that can take a character and return a string.\n"
   ]
  },
  {
   "cell_type": "code",
   "execution_count": 73,
   "metadata": {
    "collapsed": true
   },
   "outputs": [],
   "source": [
    "let convertToInt (stringInput : char ) : int = \n",
    "    (int stringInput) - 48"
   ]
  },
  {
   "cell_type": "markdown",
   "metadata": {},
   "source": [
    "That should do the trick. The _int_ function casts the strings that come in to int*.\n",
    "\n",
    "\\* We should note here that this code simply assumes the input will *always* be numerals that can be converted to strings. In production code, the input string would have to be validated before passed to the rest of the functions. For now though we'll assume that everything is fine.\n",
    "\n",
    "\n",
    "Let's see if we can stack this in front of our previous functions."
   ]
  },
  {
   "cell_type": "code",
   "execution_count": 74,
   "metadata": {
    "collapsed": true
   },
   "outputs": [],
   "source": [
    "let adventOfCode1Alt (input : string ) : int = \n",
    "    let newList = \n",
    "        input \n",
    "        |> Seq.toList \n",
    "        |> List.map convertToInt\n",
    "        \n",
    "    newList \n",
    "    |> List.map2 compareInts (adjustList newList) \n",
    "    |> List.sum"
   ]
  },
  {
   "cell_type": "markdown",
   "metadata": {},
   "source": [
    "Now let's give this new function a try, but this time with my full puzzle input!"
   ]
  },
  {
   "cell_type": "code",
   "execution_count": 75,
   "metadata": {},
   "outputs": [
    {
     "data": {
      "text/plain": [
       "1228"
      ]
     },
     "execution_count": 75,
     "metadata": {},
     "output_type": "execute_result"
    }
   ],
   "source": [
    "let fullInput = \"649713959682898259577777982349515784822684939966191359164369933435366431847754488661965363557985166219358714739318371382388296151195361571216131925158492441461844687324923315381358331571577613789649166486152237945917987977793891739865149734755993241361886336926538482271124755359572791451335842534893192693558659991171983849285489139421425933638614884415896938914992732492192458636484523228244532331587584779552788544667253577324649915274115924611758345676183443982992733966373498385685965768929241477983727921279826727976872556315428434799161759734932659829934562339385328119656823483954856427365892627728163524721467938449943358192632262354854593635831559352247443975945144163183563723562891357859367964126289445982135523535923113589316417623483631637569291941782992213889513714525342468563349385271884221685549996534333765731243895662624829924982971685443825366827923589435254514211489649482374876434549682785459698885521673258939413255158196525696236457911447599947449665542554251486847388823576937167237476556782133227279324526834946534444718161524129285919477959937684728882592779941734186144138883994322742484853925383518651687147246943421311287324867663698432546619583638976637733345251834869985746385371617743498627111441933546356934671639545342515392536574744795732243617113574641284231928489312683617154536648219244996491745718658151648246791826466973654765284263928884137863647623237345882469142933142637583644258427416972595241737254449718531724176538648369253796688931245191382956961544775856872281317743828552629843551844927913147518377362266554334386721313244223233396453291224932499277961525785755863852487141946626663835195286762947172384186667439516367219391823774338692151926472717373235612911848773387771244144969149482477519437822863422662157461968444281972353149695515494992537927492111388193837553844671719291482442337761321272333982924289323437277224565149928416255435841327756139118119744528993269157174414264387573331116323982614862952264597611885999285995516357519648695594299657387614793341626318866519144574571816535351149394735916975448425618171572917195165594323552199346814729617189679698944337146\"\n",
    "\n",
    "adventOfCode1Alt fullInput"
   ]
  },
  {
   "cell_type": "markdown",
   "metadata": {},
   "source": [
    "## Question Part 2\n",
    "\n",
    "I'm pretty proud that we managed to get that working. However, upon entering the answer to the first problem we find out that there's a second part to the problem.\n",
    "\n",
    "This time, each element is **compared to the element that's the farthest away from it on the list in either direction.**\n",
    "\n",
    "Lets say we had the input *\"1 2 4 7 8 8 9 4 6 2\"*.\n",
    "\n",
    "This list is 10 items long. The farthest any number can be from another is half the length of the list away. In this case half of 10 is 5. \n",
    "\n",
    "As we can see, for this particular list, the only matching numbers are the first four (at index 2) to the second four (at index 7), and consequently, the second four back to the first four.\n",
    "\n",
    "The nice part of our design is, the only thing we really have to change is our *adjustList* function"
   ]
  },
  {
   "cell_type": "code",
   "execution_count": 76,
   "metadata": {
    "collapsed": true
   },
   "outputs": [],
   "source": [
    "let adjustList2 (input:list<int>) : list<int> = \n",
    "    let halfListLength = input.Length/2\n",
    "    List.append input.[halfListLength..] input.[0..halfListLength]"
   ]
  },
  {
   "cell_type": "markdown",
   "metadata": {},
   "source": [
    "Now *adjustList2* works just like *adjustList* except it returns a new list where the first element was the middle element of the old one (imagine if the alphabet went, \"N, O, P, ... , Y, Z, A, B, ... ,L, M\" \n",
    "\n",
    "This will work, but why not generalize a bit more... why not just make an adjusted list that can slice and swap at **any** point?"
   ]
  },
  {
   "cell_type": "code",
   "execution_count": 77,
   "metadata": {
    "collapsed": true
   },
   "outputs": [],
   "source": [
    "let adjustList3 (numToShift:int) (input:list<int>) : list<int> = \n",
    "    let whereToStartMove = input.Length - numToShift\n",
    "    List.append input.[whereToStartMove..] input.[..(whereToStartMove-1)]"
   ]
  },
  {
   "cell_type": "markdown",
   "metadata": {},
   "source": [
    "This is better.\n",
    "\n",
    "*adjustList3* accepts a new parameter: *numToShift* which is the amount of elements we want to move from the back to the front of the list. \n",
    "\n",
    "Now, we can just *tell* the program we want to move x amount of items away instead of writing a new function whenever we need to change.\n",
    "\n",
    "Let's try out this fancy new version. Note that because of how we built our application, we can just swap out the old *adjustList* function. "
   ]
  },
  {
   "cell_type": "code",
   "execution_count": 78,
   "metadata": {},
   "outputs": [],
   "source": [
    "let adventOfCode1Part2 (input : string ) : int = \n",
    "    let newList = \n",
    "        input \n",
    "        |> Seq.toList \n",
    "        |> List.map convertToInt\n",
    "    \n",
    "    let adjustment = newList.Length/2\n",
    "        \n",
    "    newList \n",
    "    |> List.map2 compareInts (adjustList3 adjustment newList) \n",
    "    |> List.sum"
   ]
  },
  {
   "cell_type": "markdown",
   "metadata": {},
   "source": [
    "See what we just did there?\n",
    "\n",
    "adventOfCodePart 2 uses our new *adjustList3* function which asks for the number of elements you want to move. In this case, we said we wanted to move the length of the entire list (equal to the number of elements) divided by 2, or half the list.\n",
    "\n",
    "Let's try it out."
   ]
  },
  {
   "cell_type": "code",
   "execution_count": 79,
   "metadata": {},
   "outputs": [
    {
     "data": {
      "text/plain": [
       "1238"
      ]
     },
     "execution_count": 79,
     "metadata": {},
     "output_type": "execute_result"
    }
   ],
   "source": [
    "adventOfCode1Part2 fullInput"
   ]
  }
 ],
 "metadata": {
  "kernelspec": {
   "display_name": "F#",
   "language": "fsharp",
   "name": "ifsharp"
  },
  "language": "fsharp",
  "language_info": {
   "codemirror_mode": "",
   "file_extension": ".fs",
   "mimetype": "text/x-fsharp",
   "name": "fsharp",
   "nbconvert_exporter": "",
   "pygments_lexer": "",
   "version": "4.3.1.0"
  }
 },
 "nbformat": 4,
 "nbformat_minor": 2
}
