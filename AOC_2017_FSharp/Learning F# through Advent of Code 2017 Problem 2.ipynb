{
 "cells": [
  {
   "cell_type": "markdown",
   "metadata": {},
   "source": [
    "## Welcome to Problem 2 Part 1 of the series where I try to solve all the [Advent of Code 2017](http://adventofcode.com/2017/about/) challenges and learn F# at the same time!\n",
    "\n",
    "Unlike the last time, we'll use the input provided to me by the website directly. In this problem, we start with data arranged in several rows.\n",
    "\n",
    "Let's add the input data."
   ]
  },
  {
   "cell_type": "code",
   "execution_count": 4,
   "metadata": {
    "collapsed": true
   },
   "outputs": [],
   "source": [
    "open System\n",
    "\n",
    "let fullInput = \"121\t59\t141\t21\t120\t67\t58\t49\t22\t46\t56\t112\t53\t111\t104\t130\n",
    "1926\t1910\t760\t2055\t28\t2242\t146\t1485\t163\t976\t1842\t1982\t137\t1387\t162\t789\n",
    "4088\t258\t2060\t1014\t4420\t177\t4159\t194\t2794\t4673\t4092\t681\t174\t2924\t170\t3548\n",
    "191\t407\t253\t192\t207\t425\t580\t231\t197\t382\t404\t472\t164\t571\t500\t216\n",
    "4700\t1161\t168\t5398\t5227\t5119\t252\t2552\t4887\t5060\t1152\t3297\t847\t4525\t220\t262\n",
    "2417\t992\t1445\t184\t554\t2940\t209\t2574\t2262\t1911\t2923\t204\t2273\t2760\t506\t157\n",
    "644\t155\t638\t78\t385\t408\t152\t360\t588\t618\t313\t126\t172\t220\t217\t161\n",
    "227\t1047\t117\t500\t1445\t222\t29\t913\t190\t791\t230\t1281\t1385\t226\t856\t1380\n",
    "436\t46\t141\t545\t122\t86\t283\t124\t249\t511\t347\t502\t168\t468\t117\t94\n",
    "2949\t3286\t2492\t2145\t1615\t159\t663\t1158\t154\t939\t166\t2867\t141\t324\t2862\t641\n",
    "1394\t151\t90\t548\t767\t1572\t150\t913\t141\t1646\t154\t1351\t1506\t1510\t707\t400\n",
    "646\t178\t1228\t1229\t270\t167\t161\t1134\t193\t1312\t1428\t131\t1457\t719\t1288\t989\n",
    "1108\t1042\t93\t140\t822\t124\t1037\t1075\t125\t941\t1125\t298\t136\t94\t135\t711\n",
    "112\t2429\t1987\t2129\t2557\t1827\t477\t100\t78\t634\t352\t1637\t588\t77\t1624\t2500\n",
    "514\t218\t209\t185\t197\t137\t393\t555\t588\t569\t710\t537\t48\t309\t519\t138\n",
    "1567\t3246\t4194\t151\t3112\t903\t1575\t134\t150\t4184\t3718\t4077\t180\t4307\t4097\t1705\""
   ]
  },
  {
   "cell_type": "markdown",
   "metadata": {},
   "source": [
    "Awesome. Time to break down the problem. [Here's](http://adventofcode.com/2017/day/2) the info.\n",
    "\n",
    "Now according to the problem, **for each row in the data**, we want to find **the difference between the highest value and the lowest value.**  Then, once we find those value, we need to sum them together. Parts of this feel similar to [Problem 1 part one](http://adventofcode.com/2017/day/1). \n",
    "\n",
    "Let's start with getting the data into a more usable form. Using the *.Split()* method of a string we can separate it into an array of smaller strings. While it has an optional input parameter, using *.Split()* with no parameters automatically separates the string by whitespace, which is what we want. \n",
    "\n",
    "For the sake of maintaining our functional style, we'll wrap this method in a function."
   ]
  },
  {
   "cell_type": "code",
   "execution_count": 5,
   "metadata": {
    "collapsed": true
   },
   "outputs": [],
   "source": [
    "let stringSplit (input:string) : string[] = \n",
    "    input.Split()"
   ]
  },
  {
   "cell_type": "markdown",
   "metadata": {},
   "source": [
    "That was easy. The function stringSplit accepts a string and returns an array of strings. Under the hood, we can see it's really F#'s Object Oriented side, but to the rest of our program, this is regular function _and that's just the way we like it_.\n",
    "\n",
    "Now we need a function to actually separate the data into it's respective rows. "
   ]
  },
  {
   "cell_type": "code",
   "execution_count": 6,
   "metadata": {
    "collapsed": true
   },
   "outputs": [],
   "source": [
    "let rec separateBy (rowLength:int) (data: list<int>) : list<list<int>> = \n",
    "    match data with\n",
    "    | [] -> []\n",
    "    | _ ->\n",
    "        let endPoint = rowLength - 1\n",
    "        let arrayHead = data.[0..endPoint] \n",
    "        let arrayRest = data.[rowLength..]\n",
    "        \n",
    "        arrayHead :: (separateBy rowLength arrayRest)"
   ]
  },
  {
   "cell_type": "markdown",
   "metadata": {},
   "source": [
    "Okay, there's a lot of new stuff going on, so let's break it down.\n",
    "\n",
    "*Firstly*, we see the word *rec* in front of our function name. This means the function is *recursive* (it will call itself at some point). Recursive functions can be a bit tricky, but you mainly just need to ensure that **the recursion always has a way to end.** Otherwise the function will call itself forever.\n",
    "\n",
    "*Secondly*, we see that the function accepts an int and a list of ints and returns a list that itself **contains lists of ints**. This should seem strange to you, as we were just talking about an array of strings. It turns out it's fairly easy to go from an array of one primitive value to a list of another primitive value. Since I prefer working with lists and the problem requires integers, I've decided to write this as if I've already done the conversions. We'll see exactly how this works in the final function.\n",
    "\n",
    "*Thirdly*, we get to use the **match** keyword. Match allows us to compare data to a series of possibilities, and whichever the data matches, that branch gets executed.\n",
    "\n",
    "Now to explain what separateBy is doing. The logic goes like this:\n",
    "\n",
    "- If separateBy gets an empty list, it returns an empty list.\n",
    "- If separateBy does not get an empty list, it places **a list of the first 16 elements** at the front of the list, and **calls itself again on the rest of the list**\n",
    "\n",
    "The end result is a list that where each element is a list of 16 integers. A list of lists! These sublists are our rows. There's a few problems with this function, mainly that it assumes that the input list always has a number of elements that's a multiple of 16, but again, tweaks will come later.\n",
    "\n",
    "Let's quickly see how this will work..."
   ]
  },
  {
   "cell_type": "code",
   "execution_count": 7,
   "metadata": {},
   "outputs": [
    {
     "data": {
      "text/plain": [
       "[[121; 59; 141; 21; 120; 67; 58; 49; 22; 46; 56; 112; 53; 111; 104; 130];\n",
       " [1926; 1910; 760; 2055; 28; 2242; 146; 1485; 163; 976; 1842; 1982; 137; 1387;\n",
       "  162; 789];\n",
       " [4088; 258; 2060; 1014; 4420; 177; 4159; 194; 2794; 4673; 4092; 681; 174; 2924;\n",
       "  170; 3548];\n",
       " [191; 407; 253; 192; 207; 425; 580; 231; 197; 382; 404; 472; 164; 571; 500; 216];\n",
       " [4700; 1161; 168; 5398; 5227; 5119; 252; 2552; 4887; 5060; 1152; 3297; 847;\n",
       "  4525; 220; 262];\n",
       " [2417; 992; 1445; 184; 554; 2940; 209; 2574; 2262; 1911; 2923; 204; 2273; 2760;\n",
       "  506; 157];\n",
       " [644; 155; 638; 78; 385; 408; 152; 360; 588; 618; 313; 126; 172; 220; 217; 161];\n",
       " [227; 1047; 117; 500; 1445; 222; 29; 913; 190; 791; 230; 1281; 1385; 226; 856;\n",
       "  1380];\n",
       " [436; 46; 141; 545; 122; 86; 283; 124; 249; 511; 347; 502; 168; 468; 117; 94];\n",
       " [2949; 3286; 2492; 2145; 1615; 159; 663; 1158; 154; 939; 166; 2867; 141; 324;\n",
       "  2862; 641];\n",
       " [1394; 151; 90; 548; 767; 1572; 150; 913; 141; 1646; 154; 1351; 1506; 1510; 707;\n",
       "  400];\n",
       " [646; 178; 1228; 1229; 270; 167; 161; 1134; 193; 1312; 1428; 131; 1457; 719;\n",
       "  1288; 989];\n",
       " [1108; 1042; 93; 140; 822; 124; 1037; 1075; 125; 941; 1125; 298; 136; 94; 135;\n",
       "  711];\n",
       " [112; 2429; 1987; 2129; 2557; 1827; 477; 100; 78; 634; 352; 1637; 588; 77; 1624;\n",
       "  2500];\n",
       " [514; 218; 209; 185; 197; 137; 393; 555; 588; 569; 710; 537; 48; 309; 519; 138];\n",
       " [1567; 3246; 4194; 151; 3112; 903; 1575; 134; 150; 4184; 3718; 4077; 180; 4307;\n",
       "  4097; 1705]]"
      ]
     },
     "execution_count": 7,
     "metadata": {},
     "output_type": "execute_result"
    }
   ],
   "source": [
    "let dataCleaner (rows:int) (input:string) : list<list<int>> = \n",
    "    input\n",
    "        |> stringSplit \n",
    "        |> Array.toList\n",
    "        |> List.map (fun x -> System.Int32.Parse x) \n",
    "        |> separateBy rows\n",
    "        \n",
    "dataCleaner 16 fullInput"
   ]
  },
  {
   "cell_type": "markdown",
   "metadata": {},
   "source": [
    "Sweet success.\n",
    "\n",
    "We start with a string. *stringSplit* turns that to an array of string. *Array.toList* takes us to a list of strings. Next we use List.map and an anonymous function to turn all the strings in our list to integers. Finally we use separateBy to turn our long string of numbers into lists of 16 matching the rows we were given. \n",
    "\n",
    "Functional programming at it's finest.\n",
    "\n",
    "Let's define one more function (our actual business logic) and then bring it all home."
   ]
  },
  {
   "cell_type": "code",
   "execution_count": 8,
   "metadata": {
    "collapsed": true
   },
   "outputs": [],
   "source": [
    "let rowDiffer (row : list<int>) : int = \n",
    "    (Seq.max row) - (Seq.min row) "
   ]
  },
  {
   "cell_type": "markdown",
   "metadata": {},
   "source": [
    "rowDiffer is pretty straight forward. It makes heavy use of the **Seq** library, which is short for sequence, and contains a variety of functions that work on anything that's expresses the **Inumerable** interface (Seq function work on anything that  can be counted basically)\n",
    "\n",
    "*Seq.max* finds the largest value in the sequence. *Seq.min* finds the lowest. Then we just subtract the two numbers.\n",
    "\n",
    "Now we need to make one function that can put these all together!"
   ]
  },
  {
   "cell_type": "code",
   "execution_count": 9,
   "metadata": {},
   "outputs": [
    {
     "data": {
      "text/plain": [
       "32121"
      ]
     },
     "execution_count": 9,
     "metadata": {},
     "output_type": "execute_result"
    }
   ],
   "source": [
    "let adventOfCode2 (rows:int) (data:string) = \n",
    "    data\n",
    "        |> dataCleaner rows\n",
    "        |> Seq.sumBy rowDiffer\n",
    "\n",
    "adventOfCode2 16 fullInput"
   ]
  },
  {
   "cell_type": "markdown",
   "metadata": {},
   "source": [
    "And here we are. *adventOfCode2* takes an int representing the length of each row and the data to be processed. \n",
    "\n",
    "It splits the string into an array of strings.\n",
    "\n",
    "It converts that array to a list of strings.\n",
    "\n",
    "It maps that list of strings to a list of numbers.\n",
    "\n",
    "It separates that list into rows base on the rows integer provided.\n",
    "\n",
    "Finally it uses **Seq.sumBy** to add up the numbers provided by *rowDiffer* on each row. \n",
    "\n",
    "\n",
    "Follow up here would be probably trimminng the type conversion (lists over arrays is probably unnecessary... ). The *separateBy* function could also be made more generic, allowing for any sequence... as well as being changed so the program wont complain if the number of integers isnt a multiple of 16.\n"
   ]
  },
  {
   "cell_type": "markdown",
   "metadata": {},
   "source": [
    "##  Part 2\n",
    "\n",
    "Okay so part two of the problem is a bit more complex.\n",
    "\n",
    "This time, for each row, we need to find the only two(2) numbers where one is the multiple of the other. After we do this, \n",
    "we're then asked to perform the division to get the result, and then add up the division results for every row.\n",
    "\n",
    "Let's turn that into a set of small functions we can combine together. \n",
    "\n",
    "At the very least, we need a function that determine if two numbers are divisible. "
   ]
  },
  {
   "cell_type": "code",
   "execution_count": 10,
   "metadata": {
    "collapsed": true
   },
   "outputs": [],
   "source": [
    "let divideFactors (dividend:int) (divisor:int) : int = \n",
    "    if dividend % divisor = 0 then\n",
    "        (dividend / divisor)\n",
    "    else\n",
    "        0"
   ]
  },
  {
   "cell_type": "markdown",
   "metadata": {},
   "source": [
    "The function *divideFactors* accepts two integers, the *dividend* (the number to be divided) and the *divisor* (the number that divides the dividend) and checks to see if divisor is a factor of the dividend. If so the division is performed and the result returned, otherwise, zero is returned.\n",
    "\n",
    "Now, I eventually decided I wanted to filter the rows so that divideFactors only has to check things that could actually be potential factors."
   ]
  },
  {
   "cell_type": "code",
   "execution_count": 11,
   "metadata": {
    "collapsed": true
   },
   "outputs": [],
   "source": [
    "let potentialFactor (maxInt:int) (num:int) : bool = \n",
    "    if num <= maxInt/2 then \n",
    "        true \n",
    "    else \n",
    "        false"
   ]
  },
  {
   "cell_type": "markdown",
   "metadata": {},
   "source": [
    "Now, I could have made this pretty complex, but I decided on a simple standard. *potentialFactors* takes a maxInt which is the current dividend and a number (from our rows) and checks if that number is no more than half the size of the dividend. If it is, it returns true, and if it isn't, it obviousely can't be a factor of the dividend so gets a false.\n",
    "\n",
    "Let's make the actual function to do the filtering."
   ]
  },
  {
   "cell_type": "code",
   "execution_count": 12,
   "metadata": {
    "collapsed": true
   },
   "outputs": [],
   "source": [
    "let filterList (maxInt:int) (data:list<int>) : list<int> =\n",
    "    List.filter (potentialFactor maxInt) data "
   ]
  },
  {
   "cell_type": "markdown",
   "metadata": {},
   "source": [
    "Now we need to make a small function that will accept a number and a row and return the sum total of values from *divideFactors*. This will be the first piece of a larger more grand function."
   ]
  },
  {
   "cell_type": "code",
   "execution_count": 13,
   "metadata": {
    "collapsed": true
   },
   "outputs": [],
   "source": [
    "let helper1 (maxInt:int) (data:list<int>) : int =\n",
    "    data\n",
    "    |> List.map (divideFactors maxInt)\n",
    "    |> List.sum "
   ]
  },
  {
   "cell_type": "markdown",
   "metadata": {},
   "source": [
    "Cool. We can pass in a number and a whole row of values and reduce that to single integer.\n",
    "\n",
    "Here's the issue though. We need to do this for basically every number in each row. We could solve this is a variety of ways, including a recursive function like we did with *separateBy* but this time we'll try something more idiomatic and use a [fold](https://msdn.microsoft.com/en-us/visualfsharpdocs/conceptual/list.fold%5B't,'state%5D-function-%5Bfsharp%5D). \n",
    "\n",
    "Folds are a bit tricky to explain, but they basically let you fold a sequence of values up into one output, where each iteration uses the output of the iteration prior. \n",
    "\n",
    "As usual, I'll write the function first then try my best to explain it. "
   ]
  },
  {
   "cell_type": "code",
   "execution_count": 14,
   "metadata": {},
   "outputs": [],
   "source": [
    "   \n",
    "let folder ((answer, oldFilter):int*int list) (maxInt:int) : int*int list =\n",
    "    let newFilter = filterList maxInt oldFilter\n",
    "    \n",
    "    newFilter\n",
    "    |> (helper1 maxInt)\n",
    "    |> (fun additional -> ((answer + additional), newFilter))\n",
    "    "
   ]
  },
  {
   "cell_type": "markdown",
   "metadata": {},
   "source": [
    "This is our folder function. It has two parameters. The first is a tuple containing *answer*, a sum of the score of each pass and *oldFilter*, the last row of divisors. *maxInt* is the current dividend. \n",
    "\n",
    "The most important part of our folder function is the fact that it returns a value of the same type as its first parameter. Thus, the list can be \"folded\" through it. \n",
    "\n",
    "Let's see it in action where it makes more sense."
   ]
  },
  {
   "cell_type": "code",
   "execution_count": 15,
   "metadata": {
    "collapsed": true
   },
   "outputs": [],
   "source": [
    "let solveRow (input:list<int>) : int = \n",
    "    let startInt = input.Head\n",
    "    \n",
    "    input\n",
    "    |> List.fold folder (0, input) \n",
    "    |> (fun (answer, _) -> answer)"
   ]
  },
  {
   "cell_type": "markdown",
   "metadata": {},
   "source": [
    "The *solveRow* function will take a list of integers and find every occurence of two numbers with a factor/multiple relationship, performs a division of the larger over the smaller, and sums the result.\n",
    "\n",
    "Here we see our fold in action. Each value in our input is fed in as the *maxInt* into the folder. folder finds the answer with that maxInt and the fold ensures the answers from folder are **fed back into folder** but with a new maxInt... \n",
    "\n",
    "Yeah, it's all a bit goofy, and it's essentially obfuscated recursion, but what it means is we can put it all together for a \"relatively\" clean solution\"."
   ]
  },
  {
   "cell_type": "code",
   "execution_count": 16,
   "metadata": {
    "collapsed": true
   },
   "outputs": [],
   "source": [
    "let adventOfCode2Part2 (rows:int) (data:string) = \n",
    "    data\n",
    "        |> dataCleaner rows\n",
    "        |> List.map (List.sortDescending)\n",
    "        |> List.map solveRow \n",
    "        |> List.sum "
   ]
  },
  {
   "cell_type": "code",
   "execution_count": 17,
   "metadata": {},
   "outputs": [
    {
     "data": {
      "text/plain": [
       "197"
      ]
     },
     "execution_count": 17,
     "metadata": {},
     "output_type": "execute_result"
    }
   ],
   "source": [
    "adventOfCode2Part2 16 fullInput"
   ]
  },
  {
   "cell_type": "markdown",
   "metadata": {},
   "source": [
    "Honestly, I don't mind my answer on this one but the explanation is messy, and I'm not really sure how to make it better.\n",
    "\n",
    "Still moving pretty slowly on these but I think moving counts. \n",
    "\n",
    "F#'s mix of functional and OOP isn't as jarring as I thought it would be and basically boils down to \"Use FP unless OOP is the blatantly obvious thing to do.\" \n",
    "\n",
    "Anyway, I hope you enjoyed. The next problem is a doozy and I look forward to sharing with you. Thanks for reading."
   ]
  }
 ],
 "metadata": {
  "kernelspec": {
   "display_name": "F#",
   "language": "fsharp",
   "name": "ifsharp"
  },
  "language": "fsharp",
  "language_info": {
   "codemirror_mode": "",
   "file_extension": ".fs",
   "mimetype": "text/x-fsharp",
   "name": "fsharp",
   "nbconvert_exporter": "",
   "pygments_lexer": "",
   "version": "4.3.1.0"
  }
 },
 "nbformat": 4,
 "nbformat_minor": 2
}
