{
 "cells": [
  {
   "cell_type": "markdown",
   "metadata": {},
   "source": [
    "## Part 5\n",
    "\n",
    "Question can be found [here](http://adventofcode.com/2017/day/5)\n",
    "\n"
   ]
  },
  {
   "cell_type": "code",
   "execution_count": 87,
   "metadata": {},
   "outputs": [
    {
     "data": {
      "text/plain": [
       "315613"
      ]
     },
     "execution_count": 87,
     "metadata": {},
     "output_type": "execute_result"
    }
   ],
   "source": [
    "open System.IO\n",
    "open System\n",
    "\n",
    "let fileName = \"problem5.txt\"\n",
    "\n",
    "// First int is the count. second int is the index position. int array is the instructions array\n",
    "type State = int*int*int[]\n",
    "\n",
    "// return type when we try to jump to new location in the int\n",
    "type LookupResult = \n",
    "    | Success of int\n",
    "    | Failure\n",
    "\n",
    "// Opens file and returns an array of strings\n",
    "let parseFile (fileName: string) : string[] =\n",
    "    File.ReadAllText fileName\n",
    "        |> fun fileString -> fileString.Split([|\"\\n\"|], StringSplitOptions.RemoveEmptyEntries)\n",
    "\n",
    "// Tries to go to next location in array and retrieve instructions. Either succeeds with instruction value or fails\n",
    "let getInstruction (index: int) (field: int[]) : LookupResult = \n",
    "    try\n",
    "        let result = field.[index]\n",
    "        Success result\n",
    "    with\n",
    "        | _ -> Failure\n",
    "\n",
    "let rec advance ((count, position, instructions): State) : int = \n",
    "    match getInstruction position instructions with\n",
    "    | Failure -> count\n",
    "    | Success instruction ->\n",
    "        let newCount = count + 1\n",
    "        let newPosition = position + instruction\n",
    "        let newInstruction = instructions.[position] + 1\n",
    "        \n",
    "        // icky OOP\n",
    "        Array.set instructions position newInstruction\n",
    "        |> fun _ -> advance (newCount, newPosition, instructions)\n",
    "        \n",
    "// All together now. take file name, access file, make array of strings, then make array of ints, then advance!         \n",
    "let advOfCode5Part1 (filename: string) : int = \n",
    "    fileName\n",
    "    |> parseFile\n",
    "    |> Array.map (fun stringnum -> int stringnum)\n",
    "    |> fun instructions -> advance (0, 0, instructions)\n",
    "    \n",
    "\n",
    "\n",
    "advOfCode5Part1 fileName\n"
   ]
  },
  {
   "cell_type": "markdown",
   "metadata": {},
   "source": [
    "Part 2"
   ]
  },
  {
   "cell_type": "code",
   "execution_count": 95,
   "metadata": {},
   "outputs": [
    {
     "data": {
      "text/plain": [
       "22570529"
      ]
     },
     "execution_count": 95,
     "metadata": {},
     "output_type": "execute_result"
    }
   ],
   "source": [
    "// determines how to update instruction\n",
    "let updateInstruction (position: int) (instructions:int[]) : int =\n",
    "    if instructions.[position] > 2 then\n",
    "        instructions.[position] - 1\n",
    "    else\n",
    "        instructions.[position] + 1\n",
    "            \n",
    "\n",
    "// Modified how we get new instruction\n",
    "let rec advance2 ((count, position, instructions): State) : int = \n",
    "    match getInstruction position instructions with\n",
    "    | Failure -> count\n",
    "    | Success instruction ->\n",
    "        let newInstruction = updateInstruction position instructions \n",
    "        let newCount = count + 1\n",
    "        let newPosition = position + instruction\n",
    "        \n",
    "        // icky OOP\n",
    "        Array.set instructions position newInstruction\n",
    "        |> fun _ -> advance2 (newCount, newPosition, instructions)\n",
    "\n",
    "// Pointing to different advance\n",
    "let advOfCode5Part2 (filename: string) : int = \n",
    "    fileName\n",
    "    |> parseFile\n",
    "    |> Array.map (fun stringnum -> int stringnum)\n",
    "    |> fun instructions -> advance2 (0, 0, instructions)\n",
    "\n",
    "advOfCode5Part2 fileName"
   ]
  }
 ],
 "metadata": {
  "kernelspec": {
   "display_name": "F#",
   "language": "fsharp",
   "name": "ifsharp"
  },
  "language": "fsharp",
  "language_info": {
   "codemirror_mode": "",
   "file_extension": ".fs",
   "mimetype": "text/x-fsharp",
   "name": "fsharp",
   "nbconvert_exporter": "",
   "pygments_lexer": "",
   "version": "4.3.1.0"
  }
 },
 "nbformat": 4,
 "nbformat_minor": 2
}
