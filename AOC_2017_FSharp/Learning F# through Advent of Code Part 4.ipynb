{
 "cells": [
  {
   "cell_type": "markdown",
   "metadata": {},
   "source": [
    "## Learning F# Through Advent of Code, Part 4 \n",
    "\n",
    "Original question can be found [here](http://adventofcode.com/2017/day/4)\n",
    "\n",
    "Honestly my cleanest solution yet. F sharp is slick.\n"
   ]
  },
  {
   "cell_type": "markdown",
   "metadata": {},
   "source": [
    "Part 1 - Given a collection of passphrases from a file, file the number of valid passphrases. A valid passphrase has no repeat words."
   ]
  },
  {
   "cell_type": "code",
   "execution_count": 53,
   "metadata": {},
   "outputs": [
    {
     "data": {
      "text/plain": [
       "386"
      ]
     },
     "execution_count": 53,
     "metadata": {},
     "output_type": "execute_result"
    }
   ],
   "source": [
    "\n",
    "\n",
    "// Getting the necessary libraries\n",
    "\n",
    "open System.IO\n",
    "open System\n",
    "\n",
    "\n",
    "// Getting the raw data\n",
    "\n",
    "let inputFile = \"problem4.txt\"\n",
    "\n",
    "// Turning the raw data into an array of arrays of strings\n",
    "let parseFile (input: string) : String[][]  = \n",
    "    File.ReadAllLines(input)\n",
    "        |> Array.map (fun x -> x.Split [(' '))\n",
    "\n",
    "// acceots an array and returns true if no duplicates by seeing if original is same length as set \n",
    "let noDuplicates (original: string[]) : bool = \n",
    "    original\n",
    "        |> Set.ofArray \n",
    "        |> fun setVersion -> Seq.length setVersion = Seq.length original\n",
    "    \n",
    "// filters the array using the noDuplicates function, then counts the remmaining arrays\n",
    "let advOfCodePart4 (inputFile: string) : int = \n",
    "    inputFile\n",
    "        |> parseFile \n",
    "        |> Array.filter noDuplicates\n",
    "        |> Array.length\n",
    "        \n",
    "advOfCodePart4 inputFile"
   ]
  },
  {
   "cell_type": "markdown",
   "metadata": {},
   "source": [
    "Part 2 - The same as part one, but passphrase words now also cannot be anagrams of each other"
   ]
  },
  {
   "cell_type": "code",
   "execution_count": 54,
   "metadata": {},
   "outputs": [
    {
     "data": {
      "text/plain": [
       "208"
      ]
     },
     "execution_count": 54,
     "metadata": {},
     "output_type": "execute_result"
    }
   ],
   "source": [
    "// sort the letters in a string\n",
    "let sortWord (word:string) : string = \n",
    "        word \n",
    "            |> Seq.sort\n",
    "            |> Seq.map string\n",
    "            |> String.concat \"\"\n",
    "\n",
    "// check if the word has anagrams by comparing the length of the set.\n",
    "let noAnagrams (input: string[]) : bool = \n",
    "    let sortedInput = input |> Array.map sortWord\n",
    "    let setSortedInput = sortedInput |> Set.ofArray \n",
    "    \n",
    "    Seq.length sortedInput = Seq.length setSortedInput\n",
    "\n",
    "// Basically the same as part 1 with one more filter. Yay functional programming\n",
    "let advOfCode4Part2 (inputFile:string) : int = \n",
    "    inputFile \n",
    "        |> parseFile \n",
    "        |> Array.filter noDuplicates\n",
    "        |> Array.filter noAnagrams\n",
    "        |> Array.length\n",
    "    \n",
    "advOfCode4Part2 inputFile"
   ]
  },
  {
   "cell_type": "code",
   "execution_count": null,
   "metadata": {
    "collapsed": true
   },
   "outputs": [],
   "source": []
  }
 ],
 "metadata": {
  "kernelspec": {
   "display_name": "F#",
   "language": "fsharp",
   "name": "ifsharp"
  },
  "language": "fsharp",
  "language_info": {
   "codemirror_mode": "",
   "file_extension": ".fs",
   "mimetype": "text/x-fsharp",
   "name": "fsharp",
   "nbconvert_exporter": "",
   "pygments_lexer": "",
   "version": "4.3.1.0"
  }
 },
 "nbformat": 4,
 "nbformat_minor": 2
}
