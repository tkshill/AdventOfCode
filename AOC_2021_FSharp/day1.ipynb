{
  "cells": [
    {
      "cell_type": "markdown",
      "metadata": {
        "dotnet_interactive": {
          "language": "fsharp"
        }
      },
      "source": [
        "# --- Day 1: Sonar Sweep ---\n",
        "\n",
        "## Introduction\n",
        "\n",
        "You're minding your own business on a ship at sea when the overboard alarm goes off! You rush to see if you can help. Apparently, one of the Elves tripped and accidentally sent the sleigh keys flying into the ocean!\n",
        "\n",
        "Before you know it, you're inside a submarine the Elves keep ready for situations like this. It's covered in Christmas lights (because of course it is), and it even has an experimental antenna that should be able to track the keys if you can boost its signal strength high enough; there's a little meter that indicates the antenna's signal strength by displaying 0-50 stars.\n",
        "\n",
        "Your instincts tell you that in order to save Christmas, you'll need to get all fifty stars by December 25th.\n",
        "\n",
        "Collect stars by solving puzzles. Two puzzles will be made available on each day in the Advent calendar; the second puzzle is unlocked when you complete the first. Each puzzle grants one star. Good luck!"
      ]
    },
    {
      "cell_type": "code",
      "execution_count": null,
      "metadata": {
        "dotnet_interactive": {
          "language": "fsharp"
        }
      },
      "outputs": [],
      "source": [
        "open System.IO\n",
        "\n",
        "let data = \n",
        "    File.ReadAllLines(@\"day1part1.txt\") \n",
        "    |> Array.map int"
      ]
    },
    {
      "cell_type": "markdown",
      "metadata": {},
      "source": [
        "## Part One\n",
        "\n",
        "As the submarine drops below the surface of the ocean, it automatically performs a sonar sweep of the nearby sea floor. On a small screen, the sonar sweep report (your puzzle input) appears: each line is a measurement of the sea floor depth as the sweep looks further and further away from the submarine.\n",
        "\n",
        "For example, suppose you had the following report:\n",
        "\n",
        "- 199\n",
        "- 200\n",
        "- 208\n",
        "- 210\n",
        "- 200\n",
        "- 207\n",
        "- 240\n",
        "- 269\n",
        "- 260\n",
        "- 263\n",
        "\n",
        "This report indicates that, scanning outward from the submarine, the sonar sweep found depths of 199, 200, 208, 210, and so on.\n",
        "\n",
        "The first order of business is to figure out how quickly the depth increases, just so you know what you're dealing with - you never know if the keys will get carried into deeper water by an ocean current or a fish or something.\n",
        "\n",
        "To do this, count the number of times a depth measurement increases from the previous measurement. (There is no measurement before the first measurement.) In the example above, the changes are as follows:\n",
        "\n",
        "- 199 (N/A - no previous measurement)\n",
        "- 200 (increased)\n",
        "- 208 (increased)\n",
        "- 210 (increased)\n",
        "- 200 (decreased)\n",
        "- 207 (increased)\n",
        "- 240 (increased)\n",
        "- 269 (increased)\n",
        "- 260 (decreased)\n",
        "- 263 (increased)\n",
        "\n",
        "In this example, there are 7 measurements that are larger than the previous measurement.\n",
        "\n",
        "How many measurements are larger than the previous measurement?"
      ]
    },
    {
      "cell_type": "code",
      "execution_count": null,
      "metadata": {
        "dotnet_interactive": {
          "language": "fsharp"
        }
      },
      "outputs": [
        {
          "data": {
            "text/html": [
              "<div class=\"dni-plaintext\">1462</div>"
            ]
          },
          "metadata": {},
          "output_type": "display_data"
        }
      ],
      "source": [
        "\n",
        "let folder (increases, last) next =\n",
        "    if next > last then increases + 1, next else increases, next\n",
        "\n",
        "let day1part1solution =\n",
        "    fst <| Array.fold folder (0, System.Int32.MaxValue) data\n",
        "\n",
        "day1part1solution"
      ]
    },
    {
      "cell_type": "markdown",
      "metadata": {},
      "source": [
        "## Part Two\n",
        "\n",
        "Considering every single measurement isn't as useful as you expected: there's just too much noise in the data.\n",
        "\n",
        "Instead, consider sums of a three-measurement sliding window. Again considering the above example:\n",
        "\n",
        "- 199  A      \n",
        "- 200  A B    \n",
        "- 208  A B C  \n",
        "- 210    B C D\n",
        "- 200  E   C D\n",
        "- 207  E F   D\n",
        "- 240  E F G  \n",
        "- 269    F G H\n",
        "- 260      G H\n",
        "- 263        H\n",
        "\n",
        "Start by comparing the first and second three-measurement windows. The measurements in the first window are marked A (199, 200, 208); their sum is 199 + 200 + 208 = 607. The second window is marked B (200, 208, 210); its sum is 618. The sum of measurements in the second window is larger than the sum of the first, so this first comparison increased.\n",
        "\n",
        "Your goal now is to count the number of times the sum of measurements in this sliding window increases from the previous sum. So, compare A with B, then compare B with C, then C with D, and so on. Stop when there aren't enough measurements left to create a new three-measurement sum.\n",
        "\n",
        "In the above example, the sum of each three-measurement window is as follows:\n",
        "\n",
        "A: 607 (N/A - no previous sum)\n",
        "B: 618 (increased)\n",
        "C: 618 (no change)\n",
        "D: 617 (decreased)\n",
        "E: 647 (increased)\n",
        "F: 716 (increased)\n",
        "G: 769 (increased)\n",
        "H: 792 (increased)\n",
        "In this example, there are 5 sums that are larger than the previous sum.\n",
        "\n",
        "Consider sums of a three-measurement sliding window. How many sums are larger than the previous sum?"
      ]
    },
    {
      "cell_type": "code",
      "execution_count": null,
      "metadata": {
        "dotnet_interactive": {
          "language": "fsharp"
        }
      },
      "outputs": [
        {
          "data": {
            "text/html": [
              "<div class=\"dni-plaintext\">1497</div>"
            ]
          },
          "metadata": {},
          "output_type": "display_data"
        }
      ],
      "source": [
        "\n",
        "let folder2 (increases, last3) (index, next) =\n",
        "    if index < 3 then\n",
        "        increases, last3 @ [next]\n",
        "    else\n",
        "        let next3 = List.tail last3 @ [next]\n",
        "        if List.sum next3 > List.sum last3 then increases + 1, next3 else increases, next3\n",
        "\n",
        "let day1part2solution =\n",
        "    fst <| Array.fold folder2 (0, []) (Array.indexed data)\n",
        "\n",
        "day1part2solution"
      ]
    },
    {
      "cell_type": "markdown",
      "metadata": {},
      "source": [
        "## Conclusion\n",
        "\n",
        "Fold is great actually."
      ]
    }
  ],
  "metadata": {
    "kernelspec": {
      "display_name": ".NET (C#)",
      "language": "C#",
      "name": ".net-csharp"
    },
    "language_info": {
      "file_extension": ".cs",
      "mimetype": "text/x-csharp",
      "name": "C#",
      "pygments_lexer": "csharp",
      "version": "8.0"
    }
  },
  "nbformat": 4,
  "nbformat_minor": 4
}
