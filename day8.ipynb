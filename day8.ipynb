{
  "cells": [
    {
      "cell_type": "code",
      "execution_count": null,
      "metadata": {
        "dotnet_interactive": {
          "language": "fsharp"
        }
      },
      "outputs": [
        {
          "data": {
            "text/html": [
              "<div><div></div><div></div><div><strong>Installed Packages</strong><ul><li><span>FParsec, 1.1.1</span></li></ul></div></div>"
            ]
          },
          "metadata": {},
          "output_type": "display_data"
        }
      ],
      "source": [
        "#r \"nuget: FParsec, 1.1.1\"\n"
      ]
    },
    {
      "cell_type": "code",
      "execution_count": null,
      "metadata": {
        "dotnet_interactive": {
          "language": "fsharp"
        }
      },
      "outputs": [
        {
          "data": {
            "text/html": [
              "<table><thead><tr><th>Item1</th><th>Item2</th></tr></thead><tbody><tr><td><div class=\"dni-plaintext\">239</div></td><td><div class=\"dni-plaintext\">946346</div></td></tr></tbody></table>"
            ]
          },
          "metadata": {},
          "output_type": "display_data"
        }
      ],
      "source": [
        "open FParsec\n",
        "open System\n",
        "open System.Text\n",
        "\n",
        "let flip f a b = f b a\n",
        "\n",
        "let data =\n",
        "    let lines = File.ReadAllLines(\"day8.txt\") |> List.ofArray\n",
        "    let barIndex = List.head lines |> Seq.findIndex ((=) '|')\n",
        "    let splitter = \n",
        "        List.toArray\n",
        "        >> String\n",
        "        >> (fun n -> n.Split \" \")\n",
        "        >> Array.filter (not << String.IsNullOrEmpty)\n",
        "        >> Array.filter ((<>) \"|\")\n",
        "    \n",
        "    lines\n",
        "    |> List.map (List.ofSeq >> List.splitAt barIndex)\n",
        "    |> List.map (fun (f, b) -> splitter f, splitter b)\n",
        " \n",
        "let day8part1solution =\n",
        "    data\n",
        "    |> List.map (snd >> Array.map Seq.length >> (Array.filter (flip List.contains [2;3;4;7])))\n",
        "    |> List.sumBy (Array.length)\n",
        "\n",
        "let lineToNums (line: seq<Set<char>>) =\n",
        "    let one = Seq.find (Set.count >> ((=) 2)) line, 1\n",
        "    let four = Seq.find (Set.count >> ((=) 4)) line, 4\n",
        "    let seven = Seq.find (Set.count >> ((=) 3)) line, 7\n",
        "    let eight = Seq.find (Set.count >> ((=) 7)) line, 8\n",
        "    let three = Seq.find (fun s -> Set.isSuperset s (fst seven) && Set.count s = 5) line, 3\n",
        "    let nine = Seq.find (fun s -> Set.isSuperset s (fst three) && Set.count s = 6) line, 9\n",
        "    let six = Seq.find (fun s -> Set.count s = 6 && not (Set.isSuperset s (fst one))) line, 6\n",
        "    let zero = Seq.find (fun s -> Set.count s = 6 && s <> (fst six) && s <> (fst nine)) line, 0\n",
        "    let five = Seq.find (fun s -> Set.count s = 5 && Set.isProperSubset s (fst nine) && s <> fst three) line, 5\n",
        "    let two = Seq.find (fun s -> Set.count s = 5 && s <> (fst five) && s <> (fst three)) line, 2\n",
        "\n",
        "    [zero; one; two; three; four; five; six; seven; eight; nine]\n",
        "\n",
        "\n",
        "let day8part2solution =\n",
        "    let seqToNum s s1s =\n",
        "        Seq.find (fun s1 -> s = fst s1) s1s |> snd\n",
        "\n",
        "    data \n",
        "    |> List.map (fun (f, b) -> f |> Array.map Set.ofSeq |> lineToNums, Array.map Set.ofSeq b)\n",
        "    |> List.map (fun (f, b) -> Array.map (fun s -> seqToNum s f) b)\n",
        "    |> List.sumBy ((Array.map string) >> String.concat \"\" >> int)\n",
        "\n",
        "\n",
        "\n",
        "day8part1solution, day8part2solution\n"
      ]
    }
  ],
  "metadata": {
    "kernelspec": {
      "display_name": ".NET (C#)",
      "language": "C#",
      "name": ".net-csharp"
    },
    "language_info": {
      "file_extension": ".cs",
      "mimetype": "text/x-csharp",
      "name": "C#",
      "pygments_lexer": "csharp",
      "version": "8.0"
    }
  },
  "nbformat": 4,
  "nbformat_minor": 4
}
