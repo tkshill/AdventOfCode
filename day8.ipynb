{
  "cells": [
    {
      "cell_type": "code",
      "execution_count": null,
      "metadata": {
        "dotnet_interactive": {
          "language": "fsharp"
        }
      },
      "outputs": [
        {
          "data": {
            "text/html": [
              "<div><div></div><div></div><div><strong>Installed Packages</strong><ul><li><span>FParsec, 1.1.1</span></li></ul></div></div>"
            ]
          },
          "metadata": {},
          "output_type": "display_data"
        }
      ],
      "source": [
        "#r \"nuget: FParsec, 1.1.1\"\n"
      ]
    },
    {
      "cell_type": "code",
      "execution_count": null,
      "metadata": {
        "dotnet_interactive": {
          "language": "fsharp"
        }
      },
      "outputs": [
        {
          "data": {
            "text/html": [
              "<table><thead><tr><th>Item1</th><th>Item2</th></tr></thead><tbody><tr><td><div class=\"dni-plaintext\">239</div></td><td><div class=\"dni-plaintext\">946346</div></td></tr></tbody></table>"
            ]
          },
          "metadata": {},
          "output_type": "display_data"
        }
      ],
      "source": [
        "open FParsec\n",
        "open System\n",
        "open System.Text\n",
        "\n",
        "let flip f a b = f b a\n",
        "\n",
        "let charToString = Seq.toArray >> String\n",
        "\n",
        "let data =\n",
        "    let lines = File.ReadAllLines(\"day8.txt\") |> List.ofArray\n",
        "    let barIndex = List.head lines |> Seq.findIndex ((=) '|')\n",
        "    let toStrings = charToString >> (fun n -> n.Split \" \") >> Array.filter (not << String.IsNullOrEmpty) >> Array.filter ((<>) \"|\")\n",
        "    \n",
        "    lines\n",
        "    |> List.map (List.ofSeq >> List.splitAt barIndex)\n",
        "    |> List.map (fun (codes, digits) -> toStrings codes, toStrings digits)\n",
        "\n",
        "let day8part1solution =\n",
        "    let justEasyOnes = Array.map Seq.length >> Array.filter (flip List.contains [2;3;4;7])\n",
        "    data |> List.sumBy (snd >> justEasyOnes >> Array.length)\n",
        "\n",
        "\n",
        "let lineToNums line =\n",
        "    let isSize n = Set.count >> ((=) n)\n",
        "    let contains s = flip Set.isSuperset s\n",
        "    let isPartof s = flip Set.isSubset s\n",
        "\n",
        "    let one = Seq.find (isSize 2) line\n",
        "    let four = Seq.find (isSize 4) line\n",
        "    let seven = Seq.find (isSize 3) line\n",
        "    let eight = Seq.find (isSize 7) line\n",
        "    let three = Seq.find (fun s -> contains seven s && isSize 5 s) line\n",
        "    let nine = Seq.find (fun s -> contains three s && isSize 6 s) line\n",
        "    let six = Seq.find (fun s -> isSize 6 s && not (contains one s)) line\n",
        "    let zero = Seq.find (fun s -> isSize 6 s&& s <> six && s <> nine) line\n",
        "    let five = Seq.find (fun s ->isSize 5 s && isPartof nine s && s <> three) line\n",
        "    let two = Seq.find (fun s -> isSize 5 s && s <> five && s <> three) line\n",
        "\n",
        "    [(zero, 0); (one, 1); (two, 2); (three, 3); (four, 4); (five, 5); (six, 6); (seven, 7); (eight, 8); (nine, 9);]\n",
        "\n",
        "\n",
        "let day8part2solution =\n",
        "    let toSets (codes, digits) = codes |> Array.map Set.ofSeq |> lineToNums, Array.map Set.ofSeq digits\n",
        "    let seqToNum digit codes = Seq.find (fun code -> digit = fst code) codes |> snd\n",
        "    let toNums (codes, digits) = Array.map (fun digit -> seqToNum digit codes) digits\n",
        "\n",
        "    data |> List.sumBy (toSets >> toNums >> ((Array.map string) >> String.concat \"\" >> int))\n",
        "\n",
        "day8part1solution, day8part2solution\n"
      ]
    }
  ],
  "metadata": {
    "kernelspec": {
      "display_name": ".NET (C#)",
      "language": "C#",
      "name": ".net-csharp"
    },
    "language_info": {
      "file_extension": ".cs",
      "mimetype": "text/x-csharp",
      "name": "C#",
      "pygments_lexer": "csharp",
      "version": "8.0"
    }
  },
  "nbformat": 4,
  "nbformat_minor": 4
}
