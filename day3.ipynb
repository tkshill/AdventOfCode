{
  "cells": [
    {
      "cell_type": "code",
      "execution_count": null,
      "metadata": {
        "dotnet_interactive": {
          "language": "fsharp"
        }
      },
      "outputs": [],
      "source": [
        "open System.IO\n",
        "\n",
        "// my great shame\n",
        "let map, head, tail, filter, maxBy, countBy, sortBy, sortByDescending = \n",
        "    List.map, List.head, List.tail, List.filter, List.maxBy, List.countBy, List.sortBy, List.sortByDescending\n",
        "\n",
        "let rec transpose = function\n",
        "| [] -> failwith \"cannot transpose a 0-by-n matrix\"\n",
        "| []::xs -> [] \n",
        "| xs -> map head xs :: transpose (map tail xs)\n",
        "\n",
        "let toString: char list -> string = map string >> String.concat \"\" \n",
        "\n",
        "let toBase10 n = Convert.ToInt32(n, 2)\n",
        "\n",
        "let data = File.ReadAllLines \"day3.txt\" |> Array.toList |> map Seq.toList"
      ]
    },
    {
      "cell_type": "code",
      "execution_count": null,
      "metadata": {
        "dotnet_interactive": {
          "language": "fsharp"
        }
      },
      "outputs": [
        {
          "data": {
            "text/html": [
              "<div class=\"dni-plaintext\">4138664</div>"
            ]
          },
          "metadata": {},
          "output_type": "display_data"
        }
      ],
      "source": [
        "let day3part1solution = \n",
        "    let gamma = \n",
        "        transpose data\n",
        "        |> map (countBy id >> maxBy snd >> fst)\n",
        "        |> toString\n",
        "\n",
        "    let epsilon = \n",
        "        gamma\n",
        "        |> Seq.toList\n",
        "        |> map (fun x -> if x = '1' then '0' else '1')\n",
        "        |> toString\n",
        "\n",
        "    toBase10 gamma * toBase10 epsilon\n",
        "    \n",
        "day3part1solution\n"
      ]
    },
    {
      "cell_type": "code",
      "execution_count": null,
      "metadata": {
        "dotnet_interactive": {
          "language": "fsharp"
        }
      },
      "outputs": [
        {
          "name": "stdout",
          "output_type": "stream",
          "text": [
            "011111101111\n",
            "100000111000\n"
          ]
        },
        {
          "data": {
            "text/html": [
              "<div class=\"dni-plaintext\">4273224</div>"
            ]
          },
          "metadata": {},
          "output_type": "display_data"
        }
      ],
      "source": [
        "let day3part2solution = \n",
        "    let nextBit sorter tiebreaker digits =\n",
        "        let countAndSort = map head >> countBy id >> sorter snd\n",
        "        \n",
        "        match countAndSort digits with\n",
        "        | x :: y :: _ when snd x = snd y -> tiebreaker\n",
        "        | x :: _ -> fst x\n",
        "\n",
        "    let getDigits criteria digits = \n",
        "        digits |> filter (head >> (=) criteria) |> map tail\n",
        "\n",
        "    let makeResolver getBit =\n",
        "        let rec resolver (digits, bits) =\n",
        "            if digits = [[]] then\n",
        "                toString bits\n",
        "            else\n",
        "                let newBit = getBit digits\n",
        "                let newDigits = getDigits newBit digits\n",
        "\n",
        "                resolver (newDigits, bits @ [newBit])\n",
        "        \n",
        "        resolver\n",
        "\n",
        "    let o2resolver = \n",
        "        (data, []) |> makeResolver (nextBit sortByDescending '1')\n",
        "\n",
        "    let co2resolver = \n",
        "        (data, []) |> makeResolver (nextBit sortBy '0')\n",
        "\n",
        "    toBase10 o2resolver * toBase10 co2resolver \n",
        "\n",
        "day3part2solution"
      ]
    }
  ],
  "metadata": {
    "kernelspec": {
      "display_name": ".NET (C#)",
      "language": "C#",
      "name": ".net-csharp"
    },
    "language_info": {
      "file_extension": ".cs",
      "mimetype": "text/x-csharp",
      "name": "C#",
      "pygments_lexer": "csharp",
      "version": "8.0"
    }
  },
  "nbformat": 4,
  "nbformat_minor": 4
}
