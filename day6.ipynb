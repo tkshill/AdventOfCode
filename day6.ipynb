{
  "cells": [
    {
      "cell_type": "code",
      "execution_count": null,
      "metadata": {
        "dotnet_interactive": {
          "language": "fsharp"
        }
      },
      "outputs": [
        {
          "data": {
            "text/html": [
              "<div><div></div><div></div><div><strong>Installed Packages</strong><ul><li><span>FParsec, 1.1.1</span></li></ul></div></div>"
            ]
          },
          "metadata": {},
          "output_type": "display_data"
        }
      ],
      "source": [
        "#r \"nuget: FParsec, 1.1.1\""
      ]
    },
    {
      "cell_type": "code",
      "execution_count": null,
      "metadata": {
        "dotnet_interactive": {
          "language": "fsharp"
        }
      },
      "outputs": [
        {
          "data": {
            "text/html": [
              "<table><thead><tr><th>Item1</th><th>Item2</th></tr></thead><tbody><tr><td><div class=\"dni-plaintext\">350917</div></td><td><div class=\"dni-plaintext\">1592918715629</div></td></tr></tbody></table>"
            ]
          },
          "metadata": {},
          "output_type": "display_data"
        }
      ],
      "source": [
        "open FParsec\n",
        "\n",
        "let pNums = sepBy (pint32 |>> int) (pstring \",\")\n",
        "\n",
        "let data =\n",
        "    match runParserOnFile pNums () \"day6.txt\" Encoding.ASCII with\n",
        "    | Success (result, _, _) -> result\n",
        "    | _ -> failwith \"oops!\"\n",
        "\n",
        "let folder _ =\n",
        "    Seq.collect (fun (a, b) -> if a = 0 then [(6, b); (8, b)] else [(a-1, b)])\n",
        "    >> Seq.groupBy fst\n",
        "    >> Seq.map (fun (k, grp) -> k, Seq.sum (Seq.map snd grp))\n",
        "\n",
        "let solve limit = \n",
        "    Seq.countBy id\n",
        "    >> Seq.map (fun (x, y) -> x, int64 y)\n",
        "    >> Seq.foldBack folder [ 1..limit ] \n",
        "    >> Seq.map snd\n",
        "    >> Seq.sum\n",
        "\n",
        "let day6part1solution = solve 80 data\n",
        "let day6part2solution = solve 256 data\n",
        "\n",
        "day6part1solution, day6part2solution  "
      ]
    }
  ],
  "metadata": {
    "kernelspec": {
      "display_name": ".NET (C#)",
      "language": "C#",
      "name": ".net-csharp"
    },
    "language_info": {
      "file_extension": ".cs",
      "mimetype": "text/x-csharp",
      "name": "C#",
      "pygments_lexer": "csharp",
      "version": "8.0"
    }
  },
  "nbformat": 4,
  "nbformat_minor": 4
}
