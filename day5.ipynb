{
  "cells": [
    {
      "cell_type": "code",
      "execution_count": null,
      "metadata": {
        "dotnet_interactive": {
          "language": "fsharp"
        }
      },
      "outputs": [
        {
          "data": {
            "text/html": [
              "<div><div></div><div></div><div><strong>Installed Packages</strong><ul><li><span>FParsec, 1.1.1</span></li></ul></div></div>"
            ]
          },
          "metadata": {},
          "output_type": "display_data"
        }
      ],
      "source": [
        "#r \"nuget: FParsec, 1.1.1\"\n",
        "\n",
        "open FParsec\n",
        "open System.IO\n",
        "open System.Text\n",
        "\n"
      ]
    },
    {
      "cell_type": "code",
      "execution_count": null,
      "metadata": {
        "dotnet_interactive": {
          "language": "fsharp"
        }
      },
      "outputs": [
        {
          "data": {
            "text/html": [
              "<div class=\"dni-plaintext\">5145</div>"
            ]
          },
          "metadata": {},
          "output_type": "display_data"
        }
      ],
      "source": [
        "let pInt = pint32 |>> int\n",
        "let pTuple = (pInt .>> pstring \",\") .>>. pInt\n",
        "let pLine = (pTuple .>> pstring \" -> \") .>>. pTuple\n",
        "let pAll = sepBy pLine newline\n",
        "\n",
        "let data =\n",
        "    match runParserOnFile pAll () \"day5.txt\" Encoding.ASCII with\n",
        "    | Success (result, _, _) -> result\n",
        "    | _ -> failwith \"Couldn't parse input\"\n",
        "\n",
        "let getPoints = function\n",
        "| ((x1, y1), (x2, y2)) when y1 < y2 -> seq { for i in y1..y2 do (x1, i) }\n",
        "| ((x1, y1), (x2, y2)) when y1 > y2 -> seq { for i in y2..y1 do (x1, i) }\n",
        "| ((x1, y1), (x2, y2)) when x1 < x2 -> seq { for i in x1..x2 do (i, y1) }\n",
        "| ((x1, y1), (x2, y2)) -> seq { for i in x2..x1 do (i, y1) }\n",
        "\n",
        "let day5part1solution =\n",
        "    data\n",
        "    |> List.filter (fun (p1, p2) -> fst p1 = fst p2 || snd p1 = snd p2)\n",
        "    |> List.collect (getPoints >> Seq.toList)\n",
        "    |> List.countBy id\n",
        "    |> List.filter (fun p -> snd p >= 2)\n",
        "    |> List.length\n",
        "\n",
        "day5part1solution"
      ]
    }
  ],
  "metadata": {
    "kernelspec": {
      "display_name": ".NET (C#)",
      "language": "C#",
      "name": ".net-csharp"
    },
    "language_info": {
      "file_extension": ".cs",
      "mimetype": "text/x-csharp",
      "name": "C#",
      "pygments_lexer": "csharp",
      "version": "8.0"
    }
  },
  "nbformat": 4,
  "nbformat_minor": 4
}
