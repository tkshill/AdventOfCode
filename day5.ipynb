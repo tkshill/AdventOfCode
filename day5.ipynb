{
  "cells": [
    {
      "cell_type": "code",
      "execution_count": null,
      "metadata": {
        "dotnet_interactive": {
          "language": "fsharp"
        }
      },
      "outputs": [
        {
          "data": {
            "text/html": [
              "<div><div></div><div></div><div><strong>Installed Packages</strong><ul><li><span>FParsec, 1.1.1</span></li></ul></div></div>"
            ]
          },
          "metadata": {},
          "output_type": "display_data"
        }
      ],
      "source": [
        "#r \"nuget: FParsec, 1.1.1\"\n",
        "\n",
        "open FParsec\n",
        "open System.IO\n",
        "open System.Text\n",
        "\n"
      ]
    },
    {
      "cell_type": "code",
      "execution_count": null,
      "metadata": {
        "dotnet_interactive": {
          "language": "fsharp"
        }
      },
      "outputs": [
        {
          "data": {
            "text/html": [
              "<table><thead><tr><th>Item1</th><th>Item2</th></tr></thead><tbody><tr><td><div class=\"dni-plaintext\">5145</div></td><td><div class=\"dni-plaintext\">16518</div></td></tr></tbody></table>"
            ]
          },
          "metadata": {},
          "output_type": "display_data"
        }
      ],
      "source": [
        "// PARSERS for input\n",
        "\n",
        "let pInt = pint32 |>> int\n",
        "let pTuple = (pInt .>> pstring \",\") .>>. pInt\n",
        "let pLine = (pTuple .>> pstring \" -> \") .>>. pTuple\n",
        "let pAll = sepBy pLine newline\n",
        "\n",
        "// HELPERS FOR CALCS\n",
        "let dir a b = if a < b then 1 else (-1)\n",
        "// equation of a line\n",
        "let eoal x1 y1 x2 y2 x =\n",
        "    let m = (y2 - y1) / (x2 - x1)\n",
        "    let b = y1 - (m * x1)\n",
        "    (m * x) + b\n",
        "\n",
        "let noDiagonals (p1, p2) = fst p1 = fst p2 || snd p1 = snd p2\n",
        "\n",
        "// Remember kids, vertical lines aren't functions\n",
        "let getPoints2 = function\n",
        "| ((x1, y1), (x2, y2)) when x1 = x2 -> seq { for i in y1..(dir y1 y2)..y2 do (x1, i) }\n",
        "| ((x1, y1), (x2, y2)) -> seq { for i in x1..(dir x1 x2)..x2 do (i, eoal x1 y1 x2 y2 i) }\n",
        "\n",
        "// The solver\n",
        "let solve condition =\n",
        "    List.filter condition\n",
        "    >> List.collect (getPoints2 >> Seq.toList)\n",
        "    >> List.countBy id\n",
        "    >> List.filter (fun p -> snd p >= 2)\n",
        "    >> List.length\n",
        "\n",
        "let run file =\n",
        "    match runParserOnFile pAll () file Encoding.ASCII with\n",
        "    | Success (result, _, _) -> solve noDiagonals result, solve (fun _ -> true) result\n",
        "    | _ -> failwith \"oops!\"\n",
        "    \n",
        "let day5part1solution, day5part2solution = run \"day5.txt\"\n",
        "\n",
        "day5part1solution, day5part2solution\n"
      ]
    },
    {
      "cell_type": "code",
      "execution_count": null,
      "metadata": {
        "dotnet_interactive": {
          "language": "fsharp"
        }
      },
      "outputs": [],
      "source": [
        "//"
      ]
    }
  ],
  "metadata": {
    "kernelspec": {
      "display_name": ".NET (C#)",
      "language": "C#",
      "name": ".net-csharp"
    },
    "language_info": {
      "file_extension": ".cs",
      "mimetype": "text/x-csharp",
      "name": "C#",
      "pygments_lexer": "csharp",
      "version": "8.0"
    }
  },
  "nbformat": 4,
  "nbformat_minor": 4
}
