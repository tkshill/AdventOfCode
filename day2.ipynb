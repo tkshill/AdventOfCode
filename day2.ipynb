{
 "cells": [
  {
   "cell_type": "code",
   "execution_count": null,
   "metadata": {
    "dotnet_interactive": {
     "language": "fsharp"
    }
   },
   "outputs": [
    {
     "data": {
      "text/html": [
       "<div><div></div><div></div><div><strong>Installed Packages</strong><ul><li><span>FParsec, 1.1.1</span></li></ul></div></div>"
      ]
     },
     "metadata": {},
     "output_type": "display_data"
    }
   ],
   "source": [
    "#r \"nuget: FParsec, 1.1.1\"\n",
    "\n",
    "open FParsec\n",
    "open System.IO\n",
    "open System.Text\n",
    "\n",
    "// Using fparsec to make a parser for our directions\n",
    "let pDirection = choice [pstring \"up\"; pstring \"down\"; pstring \"forward\"]\n",
    "\n",
    "// This will parse a space followed by a number\n",
    "let pNumber = spaces1 >>. (pint32 |>> int)\n",
    "\n",
    "// This parses a series of positions and numbers separated by newlines\n",
    "let pAll = sepBy (pDirection .>>. pNumber) newline\n",
    "\n",
    "// Runs the input file through the parser\n",
    "let data = \n",
    "    match runParserOnFile pAll () @\"day2.txt\" Encoding.ASCII with\n",
    "    | Success (result, _, _) -> result\n",
    "    | _ -> failwith \"Couldn't parse input\""
   ]
  },
  {
   "cell_type": "code",
   "execution_count": null,
   "metadata": {
    "dotnet_interactive": {
     "language": "fsharp"
    }
   },
   "outputs": [
    {
     "data": {
      "text/html": [
       "<div class=\"dni-plaintext\">1989265</div>"
      ]
     },
     "metadata": {},
     "output_type": "display_data"
    }
   ],
   "source": [
    "let folder (horizontal, depth) =\n",
    "    function\n",
    "    | (\"up\", x) -> (horizontal, depth - x)\n",
    "    | (\"down\", x) -> (horizontal, depth + x)\n",
    "    | (\"forward\", x) -> (horizontal + x, depth)\n",
    "\n",
    "let day2part1solution = \n",
    "    let horizontal, depth = List.fold folder (0, 0) data\n",
    "    horizontal * depth\n",
    "\n",
    "day2part1solution"
   ]
  },
  {
   "cell_type": "code",
   "execution_count": null,
   "metadata": {
    "dotnet_interactive": {
     "language": "fsharp"
    }
   },
   "outputs": [
    {
     "data": {
      "text/html": [
       "<div class=\"dni-plaintext\">2089174012</div>"
      ]
     },
     "metadata": {},
     "output_type": "display_data"
    }
   ],
   "source": [
    "let folder2 (horizontal, depth, aim) =\n",
    "    function\n",
    "    | (\"up\", x) -> horizontal, depth, aim - x\n",
    "    | (\"down\", x) -> horizontal, depth, aim + x\n",
    "    | (\"forward\", x) -> horizontal + x, (aim * x + depth), aim\n",
    "\n",
    "let day2part2solution =\n",
    "    let horizontal, depth, _ = List.fold folder2 (0, 0, 0) data\n",
    "    horizontal * depth\n",
    "\n",
    "day2part2solution"
   ]
  }
 ],
 "metadata": {
  "kernelspec": {
   "display_name": ".NET (F#)",
   "language": "F#",
   "name": ".net-fsharp"
  },
  "language_info": {
   "name": "F#"
  }
 },
 "nbformat": 4,
 "nbformat_minor": 2
}
