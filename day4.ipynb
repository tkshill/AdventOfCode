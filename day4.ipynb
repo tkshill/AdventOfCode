{
  "cells": [
    {
      "cell_type": "code",
      "execution_count": null,
      "metadata": {
        "dotnet_interactive": {
          "language": "fsharp"
        }
      },
      "outputs": [
        {
          "data": {
            "text/html": [
              "<table><thead><tr><th>Item1</th><th>Item2</th></tr></thead><tbody><tr><td><div class=\"dni-plaintext\">10374</div></td><td><div class=\"dni-plaintext\">24742</div></td></tr></tbody></table>"
            ]
          },
          "metadata": {},
          "output_type": "display_data"
        }
      ],
      "source": [
        "open System\n",
        "\n",
        "// ------------------------- HELPER FUNCTIONS ----------------------------------\n",
        "\n",
        "let map, head, tail, fold, filter, toList, forall, exists, sum, except, rev = \n",
        "    List.map, List.head, List.tail, List.fold, List.filter, Seq.toList, List.forall, List.exists, List.sum, List.except, List.rev\n",
        "\n",
        "let map2d f = map f |> map\n",
        "let map3d f = map2d f |> map\n",
        "let filter2d f = map (filter f)\n",
        "\n",
        "let toInts (excps: string[]) (str: string) = \n",
        "    str.Split(excps, StringSplitOptions.RemoveEmptyEntries) |> toList |> map int\n",
        "\n",
        "let rec transpose = function\n",
        "| []::xs -> [] \n",
        "| xs -> map head xs :: transpose (map tail xs)\n",
        "\n",
        "// -------------------------- DATA PREP ----------------------------------------\n",
        "\n",
        "// I did not use the parser today but I wish I had\n",
        "\n",
        "let (rawHead :: rawRest) = File.ReadAllLines \"day4.txt\" |> toList\n",
        "let bingoNums = rawHead |> toInts [|\",\"|]\n",
        "\n",
        "let foldCards cards = function\n",
        "| row when String.IsNullOrEmpty row -> [] :: cards\n",
        "| row -> ((toInts [| \" \"; \"  \"|] row) :: head cards) :: tail cards\n",
        "\n",
        "// turn the raw input into a list of 2d \"cards\", where false means not called yet in bingo\n",
        "let bingoCards = rawRest |> fold foldCards [] |> map3d (fun n -> (n, false))\n",
        "\n",
        "// DOMAIN\n",
        "\n",
        "// if a number has been called changed the 2nd value to true\n",
        "let updateCell n1 (n2, b) = if n1 = n2 then (n1, true) else (n2, b)\n",
        "\n",
        "// at least one row has every value called\n",
        "let hasBingo = map (forall snd) >> exists id \n",
        "\n",
        "// sum the uncalled values and multiply by some number\n",
        "let cardResult newNum = filter2d (snd >> not) >> map2d fst >> map sum >> sum >> ((*) newNum)\n",
        "\n",
        "// find cards that have a bingo\n",
        "let winningcards = filter (fun card -> hasBingo card || hasBingo (transpose card))\n",
        "\n",
        "// -------------------------- PART 1 -------------------------------------------\n",
        "\n",
        "// recurse until winning cards has at least one value then return the first \n",
        "let rec bingoFinder (cards, nums) =\n",
        "    let newNum = head nums\n",
        "    let newcards = cards |> map3d (updateCell newNum)\n",
        "\n",
        "    match winningcards newcards with\n",
        "    | [] -> bingoFinder (newcards, tail nums)\n",
        "    | winners -> head winners |> cardResult newNum  \n",
        "\n",
        "let day4part1solution = bingoFinder (bingoCards, bingoNums)\n",
        "\n",
        "// ------------------------ PART 2 ---------------------------------------------\n",
        "\n",
        "// fold through the cards, moving winnings cards over\n",
        "let bingoFolder (cards, winners) num =\n",
        "    let updatedCards = cards |> map3d (updateCell num)\n",
        "\n",
        "    match winningcards updatedCards with\n",
        "    | [] -> updatedCards, winners\n",
        "    | newWinners ->\n",
        "        let newCards = except newWinners updatedCards\n",
        "        let winGroup = (num, rev newWinners)\n",
        "        newCards, winGroup :: winners\n",
        "\n",
        "// grab the last card that won after folding    \n",
        "let day4part2solution =\n",
        "  fold bingoFolder (bingoCards, []) bingoNums\n",
        "  |> snd |> head\n",
        "  |> fun (bingoNumber, wingroup) -> cardResult bingoNumber (head wingroup)\n",
        "\n",
        "day4part1solution, day4part2solution"
      ]
    }
  ],
  "metadata": {
    "kernelspec": {
      "display_name": ".NET (C#)",
      "language": "C#",
      "name": ".net-csharp"
    },
    "language_info": {
      "file_extension": ".cs",
      "mimetype": "text/x-csharp",
      "name": "C#",
      "pygments_lexer": "csharp",
      "version": "8.0"
    }
  },
  "nbformat": 4,
  "nbformat_minor": 4
}
